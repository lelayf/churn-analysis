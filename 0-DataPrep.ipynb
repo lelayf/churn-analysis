{
 "cells": [
  {
   "cell_type": "markdown",
   "id": "a275cdea",
   "metadata": {},
   "source": [
    "## Table of Contents\n",
    "\n",
    "- [A first look at raw data](#a-first-look-at-the-raw-data)\n",
    "    - [Customer ID](#a-first-look-at-customerid)\n",
    "    - [Age](#a-first-look-at-age)\n",
    "    - [Gender](#a-first-look-gender)\n",
    "    - [Tenure](#a-first-look-tenure)\n",
    "    - [Usage Frequency](#a-first-look-usage-frequency)\n",
    "    - [Support Calls](#a-first-look-support-calls)\n",
    "    - [Subscription Types](#a-first-look-subscription-types)\n",
    "    - [Payment Delays](#a-first-look-payment-delays)\n",
    "    - [Contract Length](#a-first-look-contract-length)\n",
    "    - [Total Spend](#a-first-look-total-spend)\n",
    "    - [Churn](#a-first-look-churn)\n",
    "- [Training vs Test distributions](#comparison-of-distributions-between-training-and-test-datasets)\n",
    "- [Handling missing values](#handling-missing-values)"
   ]
  },
  {
   "cell_type": "code",
   "execution_count": 2,
   "id": "1c5561a2",
   "metadata": {},
   "outputs": [],
   "source": [
    "%matplotlib inline\n",
    "import pandas as pd\n",
    "import matplotlib.pyplot as plt\n",
    "import seaborn as sns\n",
    "import numpy as np\n",
    "\n",
    "# set seed for reproducibility\n",
    "np.random.seed(0) \n",
    "\n",
    "train = pd.read_csv('data/customer_churn_dataset-training-master.csv')\n",
    "test = pd.read_csv('data/customer_churn_dataset-testing-master.csv')"
   ]
  },
  {
   "cell_type": "markdown",
   "id": "286bf988",
   "metadata": {},
   "source": [
    "## A first look at the raw data\n",
    "\n",
    "Before doing any handling of missing values, I always find it really useful to examine the column types and their associated unique values. "
   ]
  },
  {
   "cell_type": "code",
   "execution_count": 3,
   "id": "dd62e413",
   "metadata": {},
   "outputs": [
    {
     "name": "stdout",
     "output_type": "stream",
     "text": [
      "<class 'pandas.core.frame.DataFrame'>\n",
      "RangeIndex: 440833 entries, 0 to 440832\n",
      "Data columns (total 12 columns):\n",
      " #   Column             Non-Null Count   Dtype  \n",
      "---  ------             --------------   -----  \n",
      " 0   CustomerID         440832 non-null  float64\n",
      " 1   Age                440832 non-null  float64\n",
      " 2   Gender             440832 non-null  object \n",
      " 3   Tenure             440832 non-null  float64\n",
      " 4   Usage Frequency    440832 non-null  float64\n",
      " 5   Support Calls      440832 non-null  float64\n",
      " 6   Payment Delay      440832 non-null  float64\n",
      " 7   Subscription Type  440832 non-null  object \n",
      " 8   Contract Length    440832 non-null  object \n",
      " 9   Total Spend        440832 non-null  float64\n",
      " 10  Last Interaction   440832 non-null  float64\n",
      " 11  Churn              440832 non-null  float64\n",
      "dtypes: float64(9), object(3)\n",
      "memory usage: 40.4+ MB\n"
     ]
    }
   ],
   "source": [
    "train.info()"
   ]
  },
  {
   "cell_type": "code",
   "execution_count": 4,
   "id": "36c47aac",
   "metadata": {},
   "outputs": [
    {
     "name": "stdout",
     "output_type": "stream",
     "text": [
      "<class 'pandas.core.frame.DataFrame'>\n",
      "RangeIndex: 64374 entries, 0 to 64373\n",
      "Data columns (total 12 columns):\n",
      " #   Column             Non-Null Count  Dtype \n",
      "---  ------             --------------  ----- \n",
      " 0   CustomerID         64374 non-null  int64 \n",
      " 1   Age                64368 non-null  object\n",
      " 2   Gender             64374 non-null  object\n",
      " 3   Tenure             64374 non-null  int64 \n",
      " 4   Usage Frequency    64374 non-null  int64 \n",
      " 5   Support Calls      64368 non-null  object\n",
      " 6   Payment Delay      64374 non-null  int64 \n",
      " 7   Subscription Type  64371 non-null  object\n",
      " 8   Contract Length    64374 non-null  object\n",
      " 9   Total Spend        64374 non-null  int64 \n",
      " 10  Last Interaction   64374 non-null  int64 \n",
      " 11  Churn              64374 non-null  int64 \n",
      "dtypes: int64(7), object(5)\n",
      "memory usage: 5.9+ MB\n"
     ]
    }
   ],
   "source": [
    "test.info()"
   ]
  },
  {
   "cell_type": "markdown",
   "id": "8a3558e6",
   "metadata": {},
   "source": [
    "We notice the column types differ between the training and test datasets. \n",
    "\n",
    "In particular, all `float64` columns in training set were parsed as `int64` in test set, except for 2 of them, which were parsed as `object`s:\n",
    "- Age: `float64` -> `object`\n",
    "- Support Calls: `float64` -> `object`\n",
    "\n",
    "This could be a sign that:\n",
    "- Some values in those 2 columns of the test set have incoherent \"intrinsic\" types. \n",
    "- It could also be a hint that the training set has missing values.\n",
    "\n",
    "Let's further investigate, but first, let's clean up the column names."
   ]
  },
  {
   "cell_type": "code",
   "execution_count": 5,
   "id": "8f78915f",
   "metadata": {},
   "outputs": [
    {
     "name": "stdout",
     "output_type": "stream",
     "text": [
      "Index(['CustomerID', 'Age', 'Gender', 'Tenure', 'UsageFrequency',\n",
      "       'SupportCalls', 'PaymentDelay', 'SubscriptionType', 'ContractLength',\n",
      "       'TotalSpend', 'LastInteraction', 'Churn'],\n",
      "      dtype='object')\n"
     ]
    }
   ],
   "source": [
    "train.columns = [c.replace(\" \",\"\") for c in train.columns] \n",
    "test.columns = [c.replace(\" \",\"\") for c in test.columns] \n",
    "assert (train.columns == test.columns).all()\n",
    "print(train.columns)"
   ]
  },
  {
   "cell_type": "markdown",
   "id": "2d96727e",
   "metadata": {},
   "source": [
    "### A first look at CustomerID\n",
    "\n",
    "Are all CustomerID values integers or do we have anomalous values with decimal parts?"
   ]
  },
  {
   "cell_type": "code",
   "execution_count": 6,
   "id": "32311101",
   "metadata": {},
   "outputs": [
    {
     "data": {
      "text/html": [
       "<div>\n",
       "<style scoped>\n",
       "    .dataframe tbody tr th:only-of-type {\n",
       "        vertical-align: middle;\n",
       "    }\n",
       "\n",
       "    .dataframe tbody tr th {\n",
       "        vertical-align: top;\n",
       "    }\n",
       "\n",
       "    .dataframe thead th {\n",
       "        text-align: right;\n",
       "    }\n",
       "</style>\n",
       "<table border=\"1\" class=\"dataframe\">\n",
       "  <thead>\n",
       "    <tr style=\"text-align: right;\">\n",
       "      <th></th>\n",
       "      <th>CustomerID</th>\n",
       "      <th>Age</th>\n",
       "      <th>Gender</th>\n",
       "      <th>Tenure</th>\n",
       "      <th>UsageFrequency</th>\n",
       "      <th>SupportCalls</th>\n",
       "      <th>PaymentDelay</th>\n",
       "      <th>SubscriptionType</th>\n",
       "      <th>ContractLength</th>\n",
       "      <th>TotalSpend</th>\n",
       "      <th>LastInteraction</th>\n",
       "      <th>Churn</th>\n",
       "    </tr>\n",
       "  </thead>\n",
       "  <tbody>\n",
       "    <tr>\n",
       "      <th>199295</th>\n",
       "      <td>NaN</td>\n",
       "      <td>NaN</td>\n",
       "      <td>NaN</td>\n",
       "      <td>NaN</td>\n",
       "      <td>NaN</td>\n",
       "      <td>NaN</td>\n",
       "      <td>NaN</td>\n",
       "      <td>NaN</td>\n",
       "      <td>NaN</td>\n",
       "      <td>NaN</td>\n",
       "      <td>NaN</td>\n",
       "      <td>NaN</td>\n",
       "    </tr>\n",
       "  </tbody>\n",
       "</table>\n",
       "</div>"
      ],
      "text/plain": [
       "        CustomerID  Age Gender  Tenure  UsageFrequency  SupportCalls  \\\n",
       "199295         NaN  NaN    NaN     NaN             NaN           NaN   \n",
       "\n",
       "        PaymentDelay SubscriptionType ContractLength  TotalSpend  \\\n",
       "199295           NaN              NaN            NaN         NaN   \n",
       "\n",
       "        LastInteraction  Churn  \n",
       "199295              NaN    NaN  "
      ]
     },
     "execution_count": 6,
     "metadata": {},
     "output_type": "execute_result"
    }
   ],
   "source": [
    "train[~train.CustomerID.apply(lambda x: x.is_integer())]    "
   ]
  },
  {
   "cell_type": "markdown",
   "id": "4e8ad756",
   "metadata": {},
   "source": [
    "The CustomerID field in the training set only contains integers and a single NaN value (which is why it was parsed as a `float64` column). Meanwhile, the CustomerID field in the test set was parsed as an `int64` and does not contain missing values."
   ]
  },
  {
   "cell_type": "code",
   "execution_count": 7,
   "id": "e99875f6",
   "metadata": {},
   "outputs": [
    {
     "data": {
      "text/plain": [
       "0"
      ]
     },
     "execution_count": 7,
     "metadata": {},
     "output_type": "execute_result"
    }
   ],
   "source": [
    "test.CustomerID.isna().sum()"
   ]
  },
  {
   "cell_type": "markdown",
   "id": "fd5a5e85",
   "metadata": {},
   "source": [
    "### A first look at Age"
   ]
  },
  {
   "cell_type": "code",
   "execution_count": 8,
   "id": "cf5e1d22",
   "metadata": {},
   "outputs": [
    {
     "data": {
      "text/plain": [
       "count    440832.000000\n",
       "mean         39.373153\n",
       "std          12.442369\n",
       "min          18.000000\n",
       "25%          29.000000\n",
       "50%          39.000000\n",
       "75%          48.000000\n",
       "max          65.000000\n",
       "Name: Age, dtype: float64"
      ]
     },
     "execution_count": 8,
     "metadata": {},
     "output_type": "execute_result"
    }
   ],
   "source": [
    "train.Age.describe()"
   ]
  },
  {
   "cell_type": "code",
   "execution_count": 9,
   "id": "84060fff",
   "metadata": {},
   "outputs": [
    {
     "data": {
      "text/plain": [
       "array([30., 65., 55., 58., 23., 51., 39., 64., 29., 52., 22., 48., 24.,\n",
       "       49., 19., 47., 42., 57., 27., 59., 21., 60., 35., 18., 56., 20.,\n",
       "       63., 25., 28., 32., 38., 37., 31., 53., 41., 33., 26., 36., 44.,\n",
       "       34., 61., 40., 45., 46., 54., 43., 50., 62., nan])"
      ]
     },
     "execution_count": 9,
     "metadata": {},
     "output_type": "execute_result"
    }
   ],
   "source": [
    "train.Age.unique()"
   ]
  },
  {
   "cell_type": "code",
   "execution_count": 10,
   "id": "bcaae24b",
   "metadata": {},
   "outputs": [
    {
     "data": {
      "text/plain": [
       "1"
      ]
     },
     "execution_count": 10,
     "metadata": {},
     "output_type": "execute_result"
    }
   ],
   "source": [
    "train.Age.isna().sum()"
   ]
  },
  {
   "cell_type": "code",
   "execution_count": 11,
   "id": "1a200984",
   "metadata": {},
   "outputs": [
    {
     "data": {
      "text/plain": [
       "count     64368\n",
       "unique       56\n",
       "top          55\n",
       "freq       1486\n",
       "Name: Age, dtype: object"
      ]
     },
     "execution_count": 11,
     "metadata": {},
     "output_type": "execute_result"
    }
   ],
   "source": [
    "test.Age.describe()"
   ]
  },
  {
   "cell_type": "code",
   "execution_count": 12,
   "id": "a1758911",
   "metadata": {},
   "outputs": [
    {
     "data": {
      "text/plain": [
       "array(['22', '41', '47', '35', '53', '30', '54', '36', '65', '46', '56',\n",
       "       '31', '42', '59', '29', '45', '62', '48', '55', '64', '25', '44',\n",
       "       '28', '34', '24', '27', '61', '57', '37', '51', '18', '23', '60',\n",
       "       '40', '26', '52', nan, '43', '19', '58', '33', '20', '39', '32',\n",
       "       '38', '21', '63', '49', '50', 'Twenty-nine', '0', 'sixty',\n",
       "       'forty-seven', 'fifty eight', 'twenty five', 'twenty seven',\n",
       "       'forty six'], dtype=object)"
      ]
     },
     "execution_count": 12,
     "metadata": {},
     "output_type": "execute_result"
    }
   ],
   "source": [
    "test.Age.unique()"
   ]
  },
  {
   "cell_type": "markdown",
   "id": "7ca80d63",
   "metadata": {},
   "source": [
    "We can see the test column has word representations of numbers. It could be interesting to use a package such as `word2number` to transform those all at once, but because there are not so many we can simply map them back manually to their numeric representation."
   ]
  },
  {
   "cell_type": "code",
   "execution_count": 13,
   "id": "c94d64a6",
   "metadata": {},
   "outputs": [],
   "source": [
    "words_to_nums = {\n",
    "    'Twenty-nine':29,\n",
    "    'sixty':60,\n",
    "    'forty-seven': 47, \n",
    "    'fifty eight': 48,\n",
    "    'twenty five': 25,\n",
    "    'twenty seven': 27,\n",
    "    'forty six': 46\n",
    "}\n",
    "\n",
    "def map_nums(x):\n",
    "    if pd.notnull(x):\n",
    "        if x in words_to_nums:\n",
    "            return words_to_nums[x]\n",
    "        else:\n",
    "            return float(x)\n",
    "    else:\n",
    "        return x\n",
    "\n",
    "AgeCleaned = test.Age.apply(map_nums)\n"
   ]
  },
  {
   "cell_type": "code",
   "execution_count": 14,
   "id": "99e41bd4",
   "metadata": {},
   "outputs": [
    {
     "data": {
      "text/plain": [
       "count    64368.000000\n",
       "mean        41.969612\n",
       "std         13.925750\n",
       "min          0.000000\n",
       "25%         30.000000\n",
       "50%         42.000000\n",
       "75%         54.000000\n",
       "max         65.000000\n",
       "Name: Age, dtype: float64"
      ]
     },
     "execution_count": 14,
     "metadata": {},
     "output_type": "execute_result"
    }
   ],
   "source": [
    "AgeCleaned.describe()"
   ]
  },
  {
   "cell_type": "code",
   "execution_count": 15,
   "id": "5bbd477f",
   "metadata": {},
   "outputs": [
    {
     "data": {
      "text/plain": [
       "array([22., 41., 47., 35., 53., 30., 54., 36., 65., 46., 56., 31., 42.,\n",
       "       59., 29., 45., 62., 48., 55., 64., 25., 44., 28., 34., 24., 27.,\n",
       "       61., 57., 37., 51., 18., 23., 60., 40., 26., 52., nan, 43., 19.,\n",
       "       58., 33., 20., 39., 32., 38., 21., 63., 49., 50.,  0.])"
      ]
     },
     "execution_count": 15,
     "metadata": {},
     "output_type": "execute_result"
    }
   ],
   "source": [
    "AgeCleaned.unique()"
   ]
  },
  {
   "cell_type": "code",
   "execution_count": 16,
   "id": "7ddce5da",
   "metadata": {},
   "outputs": [],
   "source": [
    "test.Age = AgeCleaned"
   ]
  },
  {
   "cell_type": "code",
   "execution_count": 17,
   "id": "6fe8a08c",
   "metadata": {},
   "outputs": [
    {
     "data": {
      "text/plain": [
       "6"
      ]
     },
     "execution_count": 17,
     "metadata": {},
     "output_type": "execute_result"
    }
   ],
   "source": [
    "test.Age.isna().sum()"
   ]
  },
  {
   "cell_type": "markdown",
   "id": "2d571255",
   "metadata": {},
   "source": [
    "### A first look: Gender"
   ]
  },
  {
   "cell_type": "code",
   "execution_count": 18,
   "id": "3ee7c468",
   "metadata": {},
   "outputs": [
    {
     "data": {
      "text/plain": [
       "count     440832\n",
       "unique         2\n",
       "top         Male\n",
       "freq      250252\n",
       "Name: Gender, dtype: object"
      ]
     },
     "execution_count": 18,
     "metadata": {},
     "output_type": "execute_result"
    }
   ],
   "source": [
    "train.Gender.describe()"
   ]
  },
  {
   "cell_type": "code",
   "execution_count": 19,
   "id": "39387a8f",
   "metadata": {},
   "outputs": [
    {
     "data": {
      "text/plain": [
       "array(['Female', 'Male', nan], dtype=object)"
      ]
     },
     "execution_count": 19,
     "metadata": {},
     "output_type": "execute_result"
    }
   ],
   "source": [
    "train.Gender.unique()"
   ]
  },
  {
   "cell_type": "code",
   "execution_count": 20,
   "id": "bcd998d5",
   "metadata": {},
   "outputs": [
    {
     "data": {
      "text/plain": [
       "1"
      ]
     },
     "execution_count": 20,
     "metadata": {},
     "output_type": "execute_result"
    }
   ],
   "source": [
    "train.Gender.isna().sum()"
   ]
  },
  {
   "cell_type": "code",
   "execution_count": 21,
   "id": "18d42352",
   "metadata": {},
   "outputs": [
    {
     "data": {
      "text/plain": [
       "count      64374\n",
       "unique         4\n",
       "top       Female\n",
       "freq       34352\n",
       "Name: Gender, dtype: object"
      ]
     },
     "execution_count": 21,
     "metadata": {},
     "output_type": "execute_result"
    }
   ],
   "source": [
    "test.Gender.describe()"
   ]
  },
  {
   "cell_type": "code",
   "execution_count": 22,
   "id": "4fe1ad91",
   "metadata": {},
   "outputs": [
    {
     "data": {
      "text/plain": [
       "array(['Female', 'Male', 'Man', 'Woman'], dtype=object)"
      ]
     },
     "execution_count": 22,
     "metadata": {},
     "output_type": "execute_result"
    }
   ],
   "source": [
    "test.Gender.unique()"
   ]
  },
  {
   "cell_type": "code",
   "execution_count": 23,
   "id": "db34cdd3",
   "metadata": {},
   "outputs": [
    {
     "data": {
      "text/plain": [
       "Gender\n",
       "Female    34352\n",
       "Male      30020\n",
       "Man           1\n",
       "Woman         1\n",
       "Name: count, dtype: int64"
      ]
     },
     "execution_count": 23,
     "metadata": {},
     "output_type": "execute_result"
    }
   ],
   "source": [
    "test.Gender.value_counts()"
   ]
  },
  {
   "cell_type": "markdown",
   "id": "fa9daa51",
   "metadata": {},
   "source": [
    "In the grand scheme of things, that inconsistency on the Gender test set is not a huge deal, but let's clean it up with a simple mapping. "
   ]
  },
  {
   "cell_type": "code",
   "execution_count": 24,
   "id": "227c449d",
   "metadata": {},
   "outputs": [],
   "source": [
    "gender_map = {\n",
    "    'Man': 'Male',\n",
    "    'Woman': 'Female'\n",
    "}\n",
    "\n",
    "def map_gender(x):\n",
    "    if pd.notnull(x):\n",
    "        if x in gender_map:\n",
    "            return gender_map[x]\n",
    "        else:\n",
    "            return x\n",
    "    else:\n",
    "        return x\n",
    "\n",
    "GenderCleaned = test.Gender.apply(map_gender)"
   ]
  },
  {
   "cell_type": "code",
   "execution_count": 25,
   "id": "9afb6b48",
   "metadata": {},
   "outputs": [
    {
     "data": {
      "text/plain": [
       "array(['Female', 'Male'], dtype=object)"
      ]
     },
     "execution_count": 25,
     "metadata": {},
     "output_type": "execute_result"
    }
   ],
   "source": [
    "GenderCleaned.unique()"
   ]
  },
  {
   "cell_type": "code",
   "execution_count": 26,
   "id": "6c4a8586",
   "metadata": {},
   "outputs": [],
   "source": [
    "test.Gender = GenderCleaned"
   ]
  },
  {
   "cell_type": "code",
   "execution_count": 27,
   "id": "38b8167d",
   "metadata": {},
   "outputs": [
    {
     "data": {
      "text/plain": [
       "0"
      ]
     },
     "execution_count": 27,
     "metadata": {},
     "output_type": "execute_result"
    }
   ],
   "source": [
    "test.Gender.isna().sum()"
   ]
  },
  {
   "cell_type": "markdown",
   "id": "0e119584",
   "metadata": {},
   "source": [
    "### A first look: Tenure"
   ]
  },
  {
   "cell_type": "code",
   "execution_count": 28,
   "id": "a81b284a",
   "metadata": {},
   "outputs": [
    {
     "data": {
      "text/plain": [
       "count    440832.000000\n",
       "mean         31.256336\n",
       "std          17.255727\n",
       "min           1.000000\n",
       "25%          16.000000\n",
       "50%          32.000000\n",
       "75%          46.000000\n",
       "max          60.000000\n",
       "Name: Tenure, dtype: float64"
      ]
     },
     "execution_count": 28,
     "metadata": {},
     "output_type": "execute_result"
    }
   ],
   "source": [
    "train.Tenure.describe()"
   ]
  },
  {
   "cell_type": "code",
   "execution_count": 29,
   "id": "3fb6aa7e",
   "metadata": {},
   "outputs": [
    {
     "data": {
      "text/plain": [
       "array([39., 49., 14., 38., 32., 33., 37., 12.,  3., 18., 21., 41., 35.,\n",
       "        4., 56., 44., 15., 55., 43., 52., 26.,  2., 29., 59., 40., 51.,\n",
       "       53., 24., 30.,  6., 28., 17., 60.,  7., 34., 10.,  5., 45., 54.,\n",
       "       58., 25., 13., 47., 31., 22., 19., 23.,  1.,  8., 46., 16., 50.,\n",
       "       48., 11., 42., 27.,  9., 20., 57., 36., nan])"
      ]
     },
     "execution_count": 29,
     "metadata": {},
     "output_type": "execute_result"
    }
   ],
   "source": [
    "train.Tenure.unique()"
   ]
  },
  {
   "cell_type": "code",
   "execution_count": 30,
   "id": "6e1c1ecb",
   "metadata": {},
   "outputs": [
    {
     "data": {
      "text/plain": [
       "1"
      ]
     },
     "execution_count": 30,
     "metadata": {},
     "output_type": "execute_result"
    }
   ],
   "source": [
    "train.Tenure.isna().sum()"
   ]
  },
  {
   "cell_type": "markdown",
   "id": "d8e00333",
   "metadata": {},
   "source": [
    "No major surprises: all values are integers except for a single missing one."
   ]
  },
  {
   "cell_type": "code",
   "execution_count": 31,
   "id": "f60098de",
   "metadata": {},
   "outputs": [
    {
     "data": {
      "text/plain": [
       "count    64374.000000\n",
       "mean        31.994827\n",
       "std         17.098234\n",
       "min          1.000000\n",
       "25%         18.000000\n",
       "50%         33.000000\n",
       "75%         47.000000\n",
       "max         60.000000\n",
       "Name: Tenure, dtype: float64"
      ]
     },
     "execution_count": 31,
     "metadata": {},
     "output_type": "execute_result"
    }
   ],
   "source": [
    "test.Tenure.describe()"
   ]
  },
  {
   "cell_type": "code",
   "execution_count": 32,
   "id": "94f5b09b",
   "metadata": {},
   "outputs": [
    {
     "data": {
      "text/plain": [
       "array([25, 28, 27,  9, 58, 41, 37, 36, 20,  8, 42, 13,  2, 46, 21,  1, 54,\n",
       "       40, 39, 50, 59, 60, 44, 23, 26, 31, 30, 51, 45, 19, 14, 24, 15, 47,\n",
       "        3, 17, 22, 57, 34, 29, 33, 35, 56,  5, 55, 48,  6, 32, 16, 10,  7,\n",
       "       43, 52, 53, 38,  4, 11, 18, 49, 12])"
      ]
     },
     "execution_count": 32,
     "metadata": {},
     "output_type": "execute_result"
    }
   ],
   "source": [
    "test.Tenure.unique()"
   ]
  },
  {
   "cell_type": "markdown",
   "id": "18a51e6c",
   "metadata": {},
   "source": [
    "### A first look: Usage Frequency"
   ]
  },
  {
   "cell_type": "code",
   "execution_count": 33,
   "id": "a0d0bd91",
   "metadata": {},
   "outputs": [
    {
     "data": {
      "text/plain": [
       "count    440832.000000\n",
       "mean         15.807494\n",
       "std           8.586242\n",
       "min           1.000000\n",
       "25%           9.000000\n",
       "50%          16.000000\n",
       "75%          23.000000\n",
       "max          30.000000\n",
       "Name: UsageFrequency, dtype: float64"
      ]
     },
     "execution_count": 33,
     "metadata": {},
     "output_type": "execute_result"
    }
   ],
   "source": [
    "train.UsageFrequency.describe()"
   ]
  },
  {
   "cell_type": "code",
   "execution_count": 34,
   "id": "44def416",
   "metadata": {},
   "outputs": [
    {
     "data": {
      "text/plain": [
       "array([14.,  1.,  4., 21., 20., 25., 12.,  8.,  5.,  9.,  6., 17., 23.,\n",
       "       13., 16., 27.,  2., 28., 29., 15., 24.,  3., 22., 26., 30.,  7.,\n",
       "       11., 18., 19., 10., nan])"
      ]
     },
     "execution_count": 34,
     "metadata": {},
     "output_type": "execute_result"
    }
   ],
   "source": [
    "train.UsageFrequency.unique()"
   ]
  },
  {
   "cell_type": "code",
   "execution_count": 35,
   "id": "5cef023f",
   "metadata": {},
   "outputs": [
    {
     "data": {
      "text/plain": [
       "1"
      ]
     },
     "execution_count": 35,
     "metadata": {},
     "output_type": "execute_result"
    }
   ],
   "source": [
    "train.UsageFrequency.isna().sum()"
   ]
  },
  {
   "cell_type": "code",
   "execution_count": 36,
   "id": "c23a37c0",
   "metadata": {},
   "outputs": [
    {
     "data": {
      "text/plain": [
       "count    64374.000000\n",
       "mean        15.080234\n",
       "std          8.816470\n",
       "min          1.000000\n",
       "25%          7.000000\n",
       "50%         15.000000\n",
       "75%         23.000000\n",
       "max         30.000000\n",
       "Name: UsageFrequency, dtype: float64"
      ]
     },
     "execution_count": 36,
     "metadata": {},
     "output_type": "execute_result"
    }
   ],
   "source": [
    "test.UsageFrequency.describe()"
   ]
  },
  {
   "cell_type": "code",
   "execution_count": 37,
   "id": "77fd821f",
   "metadata": {},
   "outputs": [
    {
     "data": {
      "text/plain": [
       "array([14, 28, 10, 12, 24, 15, 11,  5,  4, 27, 23,  7, 17,  3, 30,  2, 19,\n",
       "       20, 18,  8,  6, 21, 26, 16, 25, 13, 29,  9, 22,  1])"
      ]
     },
     "execution_count": 37,
     "metadata": {},
     "output_type": "execute_result"
    }
   ],
   "source": [
    "test.UsageFrequency.unique()"
   ]
  },
  {
   "cell_type": "markdown",
   "id": "9b2c8296",
   "metadata": {},
   "source": [
    "### A first look: Support Calls\n",
    "\n",
    "Let's do the same with Support Calls."
   ]
  },
  {
   "cell_type": "code",
   "execution_count": 38,
   "id": "69e72ae8",
   "metadata": {},
   "outputs": [
    {
     "data": {
      "text/plain": [
       "count    440832.000000\n",
       "mean          3.604437\n",
       "std           3.070218\n",
       "min           0.000000\n",
       "25%           1.000000\n",
       "50%           3.000000\n",
       "75%           6.000000\n",
       "max          10.000000\n",
       "Name: SupportCalls, dtype: float64"
      ]
     },
     "execution_count": 38,
     "metadata": {},
     "output_type": "execute_result"
    }
   ],
   "source": [
    "train.SupportCalls.describe()"
   ]
  },
  {
   "cell_type": "code",
   "execution_count": 39,
   "id": "8abd7845",
   "metadata": {},
   "outputs": [
    {
     "data": {
      "text/plain": [
       "array([ 5., 10.,  6.,  7.,  9.,  3.,  4.,  2.,  0.,  1.,  8., nan])"
      ]
     },
     "execution_count": 39,
     "metadata": {},
     "output_type": "execute_result"
    }
   ],
   "source": [
    "train.SupportCalls.unique()"
   ]
  },
  {
   "cell_type": "code",
   "execution_count": 40,
   "id": "9dbfb355",
   "metadata": {},
   "outputs": [
    {
     "data": {
      "text/plain": [
       "<seaborn.axisgrid.FacetGrid at 0x7f228364c970>"
      ]
     },
     "execution_count": 40,
     "metadata": {},
     "output_type": "execute_result"
    },
    {
     "data": {
      "image/png": "[encoded data removed]",
      "text/plain": [
       "<Figure size 500x500 with 1 Axes>"
      ]
     },
     "metadata": {},
     "output_type": "display_data"
    }
   ],
   "source": [
    "sns.displot(train,x='SupportCalls')"
   ]
  },
  {
   "cell_type": "code",
   "execution_count": 41,
   "id": "648a7fad",
   "metadata": {},
   "outputs": [
    {
     "data": {
      "text/plain": [
       "count     64368\n",
       "unique       16\n",
       "top           9\n",
       "freq       6661\n",
       "Name: SupportCalls, dtype: object"
      ]
     },
     "execution_count": 41,
     "metadata": {},
     "output_type": "execute_result"
    }
   ],
   "source": [
    "test.SupportCalls.describe()"
   ]
  },
  {
   "cell_type": "code",
   "execution_count": 42,
   "id": "b492db5f",
   "metadata": {},
   "outputs": [
    {
     "data": {
      "text/plain": [
       "array(['4', '7', '2', '5', '9', '10', '0', '6', '1', '3', '8', nan, 'two',\n",
       "       'none', 'seven', '10+', 'nine'], dtype=object)"
      ]
     },
     "execution_count": 42,
     "metadata": {},
     "output_type": "execute_result"
    }
   ],
   "source": [
    "test.SupportCalls.unique()"
   ]
  },
  {
   "cell_type": "markdown",
   "id": "055c4cc9",
   "metadata": {},
   "source": [
    "Interesting! It is straightforward to map back most litterals to a numeric value, but the '10+' value is a tricky one! Also, we don't have values greater than 10 in our training set, so whatever model we train will struggle to generalize well when presented with values greater than 10.\n",
    "\n",
    "- A first approach could be to map '10+' to numeric value 10. \n",
    "- another approach could be to randomize a long tail of values greater than 10, to complete the right side of the distribution of Support Calls as seen on the training set, as a half bell curve. \n",
    "\n",
    "We will adopt the former suggestion for the sake of simplicity."
   ]
  },
  {
   "cell_type": "code",
   "execution_count": 43,
   "id": "6d4f165c",
   "metadata": {},
   "outputs": [],
   "source": [
    "words_to_nums = {\n",
    "    'two': 2,\n",
    "    'none': float('nan'),\n",
    "    'seven': 7, \n",
    "    '10+': 10,\n",
    "    'nine': 9\n",
    "}\n",
    "\n",
    "def map_nums(x):\n",
    "    if pd.notnull(x):\n",
    "        if x in words_to_nums:\n",
    "            return words_to_nums[x]\n",
    "        else:\n",
    "            return float(x)\n",
    "    else:\n",
    "        return x\n",
    "\n",
    "SupportCallsCleaned = test.SupportCalls.apply(map_nums)"
   ]
  },
  {
   "cell_type": "code",
   "execution_count": 44,
   "id": "8d5149d4",
   "metadata": {},
   "outputs": [
    {
     "data": {
      "text/plain": [
       "array([ 4.,  7.,  2.,  5.,  9., 10.,  0.,  6.,  1.,  3.,  8., nan])"
      ]
     },
     "execution_count": 44,
     "metadata": {},
     "output_type": "execute_result"
    }
   ],
   "source": [
    "SupportCallsCleaned.unique()"
   ]
  },
  {
   "cell_type": "code",
   "execution_count": 45,
   "id": "64b3660c",
   "metadata": {},
   "outputs": [],
   "source": [
    "test.SupportCalls = SupportCallsCleaned"
   ]
  },
  {
   "cell_type": "code",
   "execution_count": 46,
   "id": "2e1f2b61",
   "metadata": {},
   "outputs": [
    {
     "data": {
      "text/plain": [
       "count    64367.000000\n",
       "mean         5.400718\n",
       "std          3.113956\n",
       "min          0.000000\n",
       "25%          3.000000\n",
       "50%          6.000000\n",
       "75%          8.000000\n",
       "max         10.000000\n",
       "Name: SupportCalls, dtype: float64"
      ]
     },
     "execution_count": 46,
     "metadata": {},
     "output_type": "execute_result"
    }
   ],
   "source": [
    "test.SupportCalls.describe()"
   ]
  },
  {
   "cell_type": "markdown",
   "id": "8b580c90",
   "metadata": {},
   "source": [
    "### A first look: Payment Delays"
   ]
  },
  {
   "cell_type": "code",
   "execution_count": 47,
   "id": "68fd1d9c",
   "metadata": {},
   "outputs": [
    {
     "data": {
      "text/plain": [
       "count    440832.000000\n",
       "mean         12.965722\n",
       "std           8.258063\n",
       "min           0.000000\n",
       "25%           6.000000\n",
       "50%          12.000000\n",
       "75%          19.000000\n",
       "max          30.000000\n",
       "Name: PaymentDelay, dtype: float64"
      ]
     },
     "execution_count": 47,
     "metadata": {},
     "output_type": "execute_result"
    }
   ],
   "source": [
    "train.PaymentDelay.describe()"
   ]
  },
  {
   "cell_type": "code",
   "execution_count": 48,
   "id": "c28005d3",
   "metadata": {},
   "outputs": [
    {
     "data": {
      "text/plain": [
       "array([18.,  8.,  7., 26., 16., 15.,  4., 11., 30., 25., 13., 22.,  5.,\n",
       "       14.,  3., 10., 28.,  2.,  6., 27., 12., 29., 17., 24.,  9., 23.,\n",
       "       21.,  1.,  0., 20., 19., nan])"
      ]
     },
     "execution_count": 48,
     "metadata": {},
     "output_type": "execute_result"
    }
   ],
   "source": [
    "train.PaymentDelay.unique()"
   ]
  },
  {
   "cell_type": "code",
   "execution_count": 49,
   "id": "3b081f03",
   "metadata": {},
   "outputs": [
    {
     "data": {
      "text/plain": [
       "1"
      ]
     },
     "execution_count": 49,
     "metadata": {},
     "output_type": "execute_result"
    }
   ],
   "source": [
    "train.PaymentDelay.isna().sum()"
   ]
  },
  {
   "cell_type": "code",
   "execution_count": 50,
   "id": "b24b2a15",
   "metadata": {},
   "outputs": [
    {
     "data": {
      "text/plain": [
       "count    64374.000000\n",
       "mean        17.133952\n",
       "std          8.852211\n",
       "min          0.000000\n",
       "25%         10.000000\n",
       "50%         19.000000\n",
       "75%         25.000000\n",
       "max         30.000000\n",
       "Name: PaymentDelay, dtype: float64"
      ]
     },
     "execution_count": 50,
     "metadata": {},
     "output_type": "execute_result"
    }
   ],
   "source": [
    "test.PaymentDelay.describe()"
   ]
  },
  {
   "cell_type": "code",
   "execution_count": 51,
   "id": "20540a19",
   "metadata": {},
   "outputs": [
    {
     "data": {
      "text/plain": [
       "array([27, 13, 29, 17,  2, 10, 28, 18,  8, 23, 21, 14, 25,  3,  6, 15,  1,\n",
       "        9, 30,  4,  0, 11, 16,  7, 24, 22, 12, 26, 20, 19,  5])"
      ]
     },
     "execution_count": 51,
     "metadata": {},
     "output_type": "execute_result"
    }
   ],
   "source": [
    "test.PaymentDelay.unique()"
   ]
  },
  {
   "cell_type": "markdown",
   "id": "01fa18e6",
   "metadata": {},
   "source": [
    "### A first look: Subscription Types"
   ]
  },
  {
   "cell_type": "code",
   "execution_count": 52,
   "id": "2cec4f76",
   "metadata": {},
   "outputs": [
    {
     "data": {
      "text/plain": [
       "count       440832\n",
       "unique           3\n",
       "top       Standard\n",
       "freq        149128\n",
       "Name: SubscriptionType, dtype: object"
      ]
     },
     "execution_count": 52,
     "metadata": {},
     "output_type": "execute_result"
    }
   ],
   "source": [
    "train.SubscriptionType.describe()"
   ]
  },
  {
   "cell_type": "code",
   "execution_count": 53,
   "id": "06a4e44a",
   "metadata": {},
   "outputs": [
    {
     "data": {
      "text/plain": [
       "array(['Standard', 'Basic', 'Premium', nan], dtype=object)"
      ]
     },
     "execution_count": 53,
     "metadata": {},
     "output_type": "execute_result"
    }
   ],
   "source": [
    "train.SubscriptionType.unique()"
   ]
  },
  {
   "cell_type": "code",
   "execution_count": 54,
   "id": "4b395e2e",
   "metadata": {},
   "outputs": [
    {
     "data": {
      "text/plain": [
       "1"
      ]
     },
     "execution_count": 54,
     "metadata": {},
     "output_type": "execute_result"
    }
   ],
   "source": [
    "train.SubscriptionType.isna().sum()"
   ]
  },
  {
   "cell_type": "code",
   "execution_count": 55,
   "id": "e56c84fd",
   "metadata": {},
   "outputs": [
    {
     "data": {
      "text/plain": [
       "count        64371\n",
       "unique           3\n",
       "top       Standard\n",
       "freq         21501\n",
       "Name: SubscriptionType, dtype: object"
      ]
     },
     "execution_count": 55,
     "metadata": {},
     "output_type": "execute_result"
    }
   ],
   "source": [
    "test.SubscriptionType.describe()"
   ]
  },
  {
   "cell_type": "code",
   "execution_count": 56,
   "id": "842050ef",
   "metadata": {},
   "outputs": [
    {
     "data": {
      "text/plain": [
       "array(['Basic', 'Standard', 'Premium', nan], dtype=object)"
      ]
     },
     "execution_count": 56,
     "metadata": {},
     "output_type": "execute_result"
    }
   ],
   "source": [
    "test.SubscriptionType.unique()"
   ]
  },
  {
   "cell_type": "code",
   "execution_count": 57,
   "id": "dfb487cc",
   "metadata": {},
   "outputs": [
    {
     "data": {
      "text/plain": [
       "3"
      ]
     },
     "execution_count": 57,
     "metadata": {},
     "output_type": "execute_result"
    }
   ],
   "source": [
    "test.SubscriptionType.isna().sum()"
   ]
  },
  {
   "cell_type": "markdown",
   "id": "d0735d6c",
   "metadata": {},
   "source": [
    "### A first look: Contract Length"
   ]
  },
  {
   "cell_type": "code",
   "execution_count": 58,
   "id": "22dd80b2",
   "metadata": {},
   "outputs": [
    {
     "data": {
      "text/plain": [
       "count     440832\n",
       "unique         3\n",
       "top       Annual\n",
       "freq      177198\n",
       "Name: ContractLength, dtype: object"
      ]
     },
     "execution_count": 58,
     "metadata": {},
     "output_type": "execute_result"
    }
   ],
   "source": [
    "train.ContractLength.describe()"
   ]
  },
  {
   "cell_type": "code",
   "execution_count": 59,
   "id": "6705745c",
   "metadata": {},
   "outputs": [
    {
     "data": {
      "text/plain": [
       "array(['Annual', 'Monthly', 'Quarterly', nan], dtype=object)"
      ]
     },
     "execution_count": 59,
     "metadata": {},
     "output_type": "execute_result"
    }
   ],
   "source": [
    "train.ContractLength.unique()"
   ]
  },
  {
   "cell_type": "code",
   "execution_count": 60,
   "id": "da793b9b",
   "metadata": {},
   "outputs": [
    {
     "data": {
      "text/plain": [
       "1"
      ]
     },
     "execution_count": 60,
     "metadata": {},
     "output_type": "execute_result"
    }
   ],
   "source": [
    "train.ContractLength.isna().sum()"
   ]
  },
  {
   "cell_type": "code",
   "execution_count": 61,
   "id": "b2506831",
   "metadata": {},
   "outputs": [
    {
     "data": {
      "text/plain": [
       "count       64374\n",
       "unique          6\n",
       "top       Monthly\n",
       "freq        22128\n",
       "Name: ContractLength, dtype: object"
      ]
     },
     "execution_count": 61,
     "metadata": {},
     "output_type": "execute_result"
    }
   ],
   "source": [
    "test.ContractLength.describe()"
   ]
  },
  {
   "cell_type": "code",
   "execution_count": 62,
   "id": "95703d59",
   "metadata": {},
   "outputs": [
    {
     "data": {
      "text/plain": [
       "array(['Monthly', 'Annual', 'Quarterly', 'Q3', '12 months',\n",
       "       'Once a month'], dtype=object)"
      ]
     },
     "execution_count": 62,
     "metadata": {},
     "output_type": "execute_result"
    }
   ],
   "source": [
    "test.ContractLength.unique()"
   ]
  },
  {
   "cell_type": "code",
   "execution_count": 63,
   "id": "b6d87f4b",
   "metadata": {},
   "outputs": [
    {
     "data": {
      "text/plain": [
       "ContractLength\n",
       "Monthly         22128\n",
       "Annual          21410\n",
       "Quarterly       20833\n",
       "Q3                  1\n",
       "12 months           1\n",
       "Once a month        1\n",
       "Name: count, dtype: int64"
      ]
     },
     "execution_count": 63,
     "metadata": {},
     "output_type": "execute_result"
    }
   ],
   "source": [
    "test.ContractLength.value_counts()"
   ]
  },
  {
   "cell_type": "markdown",
   "id": "ee2d1e8e",
   "metadata": {},
   "source": [
    "Again, we have a few exotic values in the test set for the Contract Length, but that only relates to 3 records. Nevertheless, we fix them up!"
   ]
  },
  {
   "cell_type": "code",
   "execution_count": 64,
   "id": "4769ef5a",
   "metadata": {},
   "outputs": [
    {
     "data": {
      "text/plain": [
       "0"
      ]
     },
     "execution_count": 64,
     "metadata": {},
     "output_type": "execute_result"
    }
   ],
   "source": [
    "test.ContractLength.isna().sum()"
   ]
  },
  {
   "cell_type": "code",
   "execution_count": 65,
   "id": "7dbe4cbb",
   "metadata": {},
   "outputs": [],
   "source": [
    "type_map = {\n",
    "    'Q3': 'Quarterly',\n",
    "    '12 months': 'Annual',\n",
    "    'Once a month': 'Monthly'\n",
    "}\n",
    "\n",
    "def fix(x):\n",
    "    if pd.notnull(x):\n",
    "        if x in type_map:\n",
    "            return type_map[x]\n",
    "        else:\n",
    "            return x\n",
    "    else:\n",
    "        return x\n",
    "\n",
    "ContractLengthCleaned = test.ContractLength.apply(fix)"
   ]
  },
  {
   "cell_type": "code",
   "execution_count": 66,
   "id": "85ad7dfc",
   "metadata": {},
   "outputs": [
    {
     "data": {
      "text/plain": [
       "array(['Monthly', 'Annual', 'Quarterly'], dtype=object)"
      ]
     },
     "execution_count": 66,
     "metadata": {},
     "output_type": "execute_result"
    }
   ],
   "source": [
    "ContractLengthCleaned.unique()"
   ]
  },
  {
   "cell_type": "code",
   "execution_count": 67,
   "id": "690646a1",
   "metadata": {},
   "outputs": [],
   "source": [
    "test.ContractLength = ContractLengthCleaned"
   ]
  },
  {
   "cell_type": "markdown",
   "id": "5f611ccb",
   "metadata": {},
   "source": [
    "### A first look: Total Spend"
   ]
  },
  {
   "cell_type": "code",
   "execution_count": 68,
   "id": "baf386e4",
   "metadata": {},
   "outputs": [
    {
     "data": {
      "text/plain": [
       "count    440832.000000\n",
       "mean        631.616223\n",
       "std         240.803001\n",
       "min         100.000000\n",
       "25%         480.000000\n",
       "50%         661.000000\n",
       "75%         830.000000\n",
       "max        1000.000000\n",
       "Name: TotalSpend, dtype: float64"
      ]
     },
     "execution_count": 68,
     "metadata": {},
     "output_type": "execute_result"
    }
   ],
   "source": [
    "train.TotalSpend.describe()"
   ]
  },
  {
   "cell_type": "code",
   "execution_count": 69,
   "id": "44b44b10",
   "metadata": {},
   "outputs": [
    {
     "data": {
      "text/plain": [
       "array([932.  , 557.  , 185.  , ..., 829.59, 804.3 , 959.47])"
      ]
     },
     "execution_count": 69,
     "metadata": {},
     "output_type": "execute_result"
    }
   ],
   "source": [
    "train.TotalSpend.unique()"
   ]
  },
  {
   "cell_type": "code",
   "execution_count": 70,
   "id": "6ac5174d",
   "metadata": {},
   "outputs": [
    {
     "data": {
      "text/plain": [
       "1"
      ]
     },
     "execution_count": 70,
     "metadata": {},
     "output_type": "execute_result"
    }
   ],
   "source": [
    "train.TotalSpend.isna().sum()"
   ]
  },
  {
   "cell_type": "code",
   "execution_count": 71,
   "id": "1c15c2d2",
   "metadata": {},
   "outputs": [
    {
     "data": {
      "text/plain": [
       "count    64374.000000\n",
       "mean       541.023379\n",
       "std        260.874809\n",
       "min        100.000000\n",
       "25%        313.000000\n",
       "50%        534.000000\n",
       "75%        768.000000\n",
       "max       1000.000000\n",
       "Name: TotalSpend, dtype: float64"
      ]
     },
     "execution_count": 71,
     "metadata": {},
     "output_type": "execute_result"
    }
   ],
   "source": [
    "test.TotalSpend.describe()"
   ]
  },
  {
   "cell_type": "code",
   "execution_count": 72,
   "id": "eb275336",
   "metadata": {},
   "outputs": [
    {
     "data": {
      "text/plain": [
       "0"
      ]
     },
     "execution_count": 72,
     "metadata": {},
     "output_type": "execute_result"
    }
   ],
   "source": [
    "test.TotalSpend.isna().sum()"
   ]
  },
  {
   "cell_type": "markdown",
   "id": "3639bb2d",
   "metadata": {},
   "source": [
    "### A first look: Last Interaction"
   ]
  },
  {
   "cell_type": "code",
   "execution_count": 73,
   "id": "7dbc1850",
   "metadata": {},
   "outputs": [
    {
     "data": {
      "text/plain": [
       "count    440832.000000\n",
       "mean         14.480868\n",
       "std           8.596208\n",
       "min           1.000000\n",
       "25%           7.000000\n",
       "50%          14.000000\n",
       "75%          22.000000\n",
       "max          30.000000\n",
       "Name: LastInteraction, dtype: float64"
      ]
     },
     "execution_count": 73,
     "metadata": {},
     "output_type": "execute_result"
    }
   ],
   "source": [
    "train.LastInteraction.describe()"
   ]
  },
  {
   "cell_type": "code",
   "execution_count": 74,
   "id": "286cf7be",
   "metadata": {},
   "outputs": [
    {
     "data": {
      "text/plain": [
       "array([17.,  6.,  3., 29., 20.,  8., 24., 30., 13., 18., 19., 23.,  4.,\n",
       "       16., 10., 21., 22.,  2., 15., 28., 26.,  7.,  1.,  9.,  5., 14.,\n",
       "       11., 12., 27., 25., nan])"
      ]
     },
     "execution_count": 74,
     "metadata": {},
     "output_type": "execute_result"
    }
   ],
   "source": [
    "train.LastInteraction.unique()"
   ]
  },
  {
   "cell_type": "code",
   "execution_count": 75,
   "id": "5f16e5a5",
   "metadata": {},
   "outputs": [
    {
     "data": {
      "text/plain": [
       "1"
      ]
     },
     "execution_count": 75,
     "metadata": {},
     "output_type": "execute_result"
    }
   ],
   "source": [
    "train.LastInteraction.isna().sum()"
   ]
  },
  {
   "cell_type": "code",
   "execution_count": 76,
   "id": "41e4a323",
   "metadata": {},
   "outputs": [
    {
     "data": {
      "text/plain": [
       "count    64374.000000\n",
       "mean        15.498850\n",
       "std          8.638436\n",
       "min          1.000000\n",
       "25%          8.000000\n",
       "50%         15.000000\n",
       "75%         23.000000\n",
       "max         30.000000\n",
       "Name: LastInteraction, dtype: float64"
      ]
     },
     "execution_count": 76,
     "metadata": {},
     "output_type": "execute_result"
    }
   ],
   "source": [
    "test.LastInteraction.describe()"
   ]
  },
  {
   "cell_type": "code",
   "execution_count": 77,
   "id": "b869fc35",
   "metadata": {},
   "outputs": [
    {
     "data": {
      "text/plain": [
       "0"
      ]
     },
     "execution_count": 77,
     "metadata": {},
     "output_type": "execute_result"
    }
   ],
   "source": [
    "test.LastInteraction.isna().sum()"
   ]
  },
  {
   "cell_type": "markdown",
   "id": "9ecdf09c",
   "metadata": {},
   "source": [
    "### A first look: Churn"
   ]
  },
  {
   "cell_type": "code",
   "execution_count": 78,
   "id": "0f1fabc7",
   "metadata": {},
   "outputs": [
    {
     "data": {
      "text/plain": [
       "count    440832.000000\n",
       "mean          0.567107\n",
       "std           0.495477\n",
       "min           0.000000\n",
       "25%           0.000000\n",
       "50%           1.000000\n",
       "75%           1.000000\n",
       "max           1.000000\n",
       "Name: Churn, dtype: float64"
      ]
     },
     "execution_count": 78,
     "metadata": {},
     "output_type": "execute_result"
    }
   ],
   "source": [
    "train.Churn.describe()"
   ]
  },
  {
   "cell_type": "code",
   "execution_count": 79,
   "id": "e909de5b",
   "metadata": {},
   "outputs": [
    {
     "data": {
      "text/plain": [
       "array([ 1.,  0., nan])"
      ]
     },
     "execution_count": 79,
     "metadata": {},
     "output_type": "execute_result"
    }
   ],
   "source": [
    "train.Churn.unique()"
   ]
  },
  {
   "cell_type": "code",
   "execution_count": 80,
   "id": "9d5dfb4e",
   "metadata": {},
   "outputs": [
    {
     "data": {
      "text/plain": [
       "1"
      ]
     },
     "execution_count": 80,
     "metadata": {},
     "output_type": "execute_result"
    }
   ],
   "source": [
    "train.Churn.isna().sum()"
   ]
  },
  {
   "cell_type": "code",
   "execution_count": 81,
   "id": "936dd584",
   "metadata": {},
   "outputs": [
    {
     "data": {
      "text/plain": [
       "Churn\n",
       "1.0    249999\n",
       "0.0    190833\n",
       "Name: count, dtype: int64"
      ]
     },
     "execution_count": 81,
     "metadata": {},
     "output_type": "execute_result"
    }
   ],
   "source": [
    "train.Churn.value_counts()"
   ]
  },
  {
   "cell_type": "code",
   "execution_count": 82,
   "id": "fbe9ae9e",
   "metadata": {},
   "outputs": [
    {
     "data": {
      "text/plain": [
       "0.4328928027003484"
      ]
     },
     "execution_count": 82,
     "metadata": {},
     "output_type": "execute_result"
    }
   ],
   "source": [
    "train.Churn.value_counts()[0]/(train.Churn.value_counts()[0]+train.Churn.value_counts()[1])"
   ]
  },
  {
   "cell_type": "code",
   "execution_count": 83,
   "id": "d07334d1",
   "metadata": {},
   "outputs": [
    {
     "data": {
      "text/plain": [
       "count    64374.000000\n",
       "mean         0.473685\n",
       "std          0.499311\n",
       "min          0.000000\n",
       "25%          0.000000\n",
       "50%          0.000000\n",
       "75%          1.000000\n",
       "max          1.000000\n",
       "Name: Churn, dtype: float64"
      ]
     },
     "execution_count": 83,
     "metadata": {},
     "output_type": "execute_result"
    }
   ],
   "source": [
    "test.Churn.describe()"
   ]
  },
  {
   "cell_type": "code",
   "execution_count": 84,
   "id": "e501efbb",
   "metadata": {},
   "outputs": [
    {
     "data": {
      "text/plain": [
       "array([1, 0])"
      ]
     },
     "execution_count": 84,
     "metadata": {},
     "output_type": "execute_result"
    }
   ],
   "source": [
    "test.Churn.unique()"
   ]
  },
  {
   "cell_type": "code",
   "execution_count": 85,
   "id": "9af679b7",
   "metadata": {},
   "outputs": [
    {
     "data": {
      "text/plain": [
       "0"
      ]
     },
     "execution_count": 85,
     "metadata": {},
     "output_type": "execute_result"
    }
   ],
   "source": [
    "test.Churn.isna().sum()"
   ]
  },
  {
   "cell_type": "code",
   "execution_count": 86,
   "id": "541cbcca",
   "metadata": {},
   "outputs": [
    {
     "data": {
      "text/plain": [
       "Churn\n",
       "0    33881\n",
       "1    30493\n",
       "Name: count, dtype: int64"
      ]
     },
     "execution_count": 86,
     "metadata": {},
     "output_type": "execute_result"
    }
   ],
   "source": [
    "test.Churn.value_counts()"
   ]
  },
  {
   "cell_type": "code",
   "execution_count": 87,
   "id": "32992dad",
   "metadata": {},
   "outputs": [
    {
     "data": {
      "text/plain": [
       "0.47368502811694163"
      ]
     },
     "execution_count": 87,
     "metadata": {},
     "output_type": "execute_result"
    }
   ],
   "source": [
    "test.Churn.value_counts()[1]/(test.Churn.value_counts()[0]+test.Churn.value_counts()[1])"
   ]
  },
  {
   "cell_type": "markdown",
   "id": "31fc4627",
   "metadata": {},
   "source": [
    "The test set has more churners than the training set (47.4% retained vs 43.2%)."
   ]
  },
  {
   "cell_type": "markdown",
   "id": "1f70d8ff",
   "metadata": {},
   "source": [
    "## Comparison of distributions between training and test datasets"
   ]
  },
  {
   "cell_type": "code",
   "execution_count": 205,
   "id": "474bafbb",
   "metadata": {},
   "outputs": [],
   "source": [
    "train.to_parquet('data/training.pq', index=False)\n",
    "test.to_parquet('data/testing.pq', index=False)\n",
    "\n",
    "train['dataset'] = 'train'\n",
    "test['dataset'] = 'test'\n",
    "alld = pd.concat([train,test]).reset_index()"
   ]
  },
  {
   "cell_type": "code",
   "execution_count": 206,
   "id": "c798a7e1",
   "metadata": {},
   "outputs": [
    {
     "data": {
      "text/plain": [
       "<Axes: xlabel='Age', ylabel='Density'>"
      ]
     },
     "execution_count": 206,
     "metadata": {},
     "output_type": "execute_result"
    },
    {
     "data": {
      "image/png": "[encoded data removed]",
      "text/plain": [
       "<Figure size 640x480 with 1 Axes>"
      ]
     },
     "metadata": {},
     "output_type": "display_data"
    }
   ],
   "source": [
    "sns.kdeplot(alld,x='Age',hue='dataset')"
   ]
  },
  {
   "cell_type": "code",
   "execution_count": 207,
   "id": "060ced78",
   "metadata": {},
   "outputs": [
    {
     "data": {
      "text/plain": [
       "<Axes: xlabel='Gender', ylabel='count'>"
      ]
     },
     "execution_count": 207,
     "metadata": {},
     "output_type": "execute_result"
    },
    {
     "data": {
      "image/png": "[encoded data removed]",
      "text/plain": [
       "<Figure size 640x480 with 1 Axes>"
      ]
     },
     "metadata": {},
     "output_type": "display_data"
    }
   ],
   "source": [
    "sns.countplot(alld,x='Gender',hue='dataset')"
   ]
  },
  {
   "cell_type": "code",
   "execution_count": 208,
   "id": "5dc91425",
   "metadata": {},
   "outputs": [
    {
     "data": {
      "text/plain": [
       "<Axes: xlabel='Tenure', ylabel='Density'>"
      ]
     },
     "execution_count": 208,
     "metadata": {},
     "output_type": "execute_result"
    },
    {
     "data": {
      "image/png": "[encoded data removed]",
      "text/plain": [
       "<Figure size 640x480 with 1 Axes>"
      ]
     },
     "metadata": {},
     "output_type": "display_data"
    }
   ],
   "source": [
    "sns.kdeplot(alld,x='Tenure',hue='dataset')"
   ]
  },
  {
   "cell_type": "code",
   "execution_count": 209,
   "id": "dade25fc",
   "metadata": {},
   "outputs": [
    {
     "data": {
      "text/plain": [
       "<Axes: xlabel='UsageFrequency', ylabel='Density'>"
      ]
     },
     "execution_count": 209,
     "metadata": {},
     "output_type": "execute_result"
    },
    {
     "data": {
      "image/png": "[encoded data removed]",
      "text/plain": [
       "<Figure size 640x480 with 1 Axes>"
      ]
     },
     "metadata": {},
     "output_type": "display_data"
    }
   ],
   "source": [
    "sns.kdeplot(alld,x='UsageFrequency',hue='dataset')"
   ]
  },
  {
   "cell_type": "code",
   "execution_count": 210,
   "id": "62b1751e",
   "metadata": {},
   "outputs": [
    {
     "data": {
      "text/plain": [
       "<Axes: xlabel='SupportCalls', ylabel='Density'>"
      ]
     },
     "execution_count": 210,
     "metadata": {},
     "output_type": "execute_result"
    },
    {
     "data": {
      "image/png": "[encoded data removed]",
      "text/plain": [
       "<Figure size 640x480 with 1 Axes>"
      ]
     },
     "metadata": {},
     "output_type": "display_data"
    }
   ],
   "source": [
    "sns.kdeplot(alld, x='SupportCalls', hue='dataset')"
   ]
  },
  {
   "cell_type": "code",
   "execution_count": 211,
   "id": "5a26ef3a",
   "metadata": {},
   "outputs": [
    {
     "data": {
      "text/plain": [
       "<Axes: xlabel='PaymentDelay', ylabel='Density'>"
      ]
     },
     "execution_count": 211,
     "metadata": {},
     "output_type": "execute_result"
    },
    {
     "data": {
      "image/png": "[encoded data removed]",
      "text/plain": [
       "<Figure size 640x480 with 1 Axes>"
      ]
     },
     "metadata": {},
     "output_type": "display_data"
    }
   ],
   "source": [
    "sns.kdeplot(alld, x='PaymentDelay', hue='dataset')"
   ]
  },
  {
   "cell_type": "markdown",
   "id": "3c8945f1",
   "metadata": {},
   "source": [
    "Looks like we are going to be testing against a distribution that exhibits an opposite skew."
   ]
  },
  {
   "cell_type": "code",
   "execution_count": 212,
   "id": "36bb30df",
   "metadata": {},
   "outputs": [
    {
     "data": {
      "text/plain": [
       "<Axes: xlabel='SubscriptionType', ylabel='count'>"
      ]
     },
     "execution_count": 212,
     "metadata": {},
     "output_type": "execute_result"
    },
    {
     "data": {
      "image/png": "[encoded data removed]",
      "text/plain": [
       "<Figure size 640x480 with 1 Axes>"
      ]
     },
     "metadata": {},
     "output_type": "display_data"
    }
   ],
   "source": [
    "sns.countplot(alld,x='SubscriptionType',hue='dataset')"
   ]
  },
  {
   "cell_type": "code",
   "execution_count": 213,
   "id": "dcf0dd28",
   "metadata": {},
   "outputs": [
    {
     "data": {
      "text/plain": [
       "<Axes: xlabel='ContractLength', ylabel='count'>"
      ]
     },
     "execution_count": 213,
     "metadata": {},
     "output_type": "execute_result"
    },
    {
     "data": {
      "image/png": "[encoded data removed]",
      "text/plain": [
       "<Figure size 640x480 with 1 Axes>"
      ]
     },
     "metadata": {},
     "output_type": "display_data"
    }
   ],
   "source": [
    "sns.countplot(alld,x='ContractLength',hue='dataset')"
   ]
  },
  {
   "cell_type": "markdown",
   "id": "1fa6fa96",
   "metadata": {},
   "source": [
    "We will be testing against an over-representation of Monthly contracts."
   ]
  },
  {
   "cell_type": "code",
   "execution_count": 214,
   "id": "2f39588b",
   "metadata": {},
   "outputs": [
    {
     "data": {
      "text/plain": [
       "<Axes: xlabel='TotalSpend', ylabel='Density'>"
      ]
     },
     "execution_count": 214,
     "metadata": {},
     "output_type": "execute_result"
    },
    {
     "data": {
      "image/png": "[encoded data removed]",
      "text/plain": [
       "<Figure size 640x480 with 1 Axes>"
      ]
     },
     "metadata": {},
     "output_type": "display_data"
    }
   ],
   "source": [
    "sns.kdeplot(alld, x='TotalSpend', hue='dataset')"
   ]
  },
  {
   "cell_type": "markdown",
   "id": "182cb619",
   "metadata": {},
   "source": [
    "Spend is rather uniform in test set, as opposed to bimodal in training set."
   ]
  },
  {
   "cell_type": "code",
   "execution_count": 215,
   "id": "918eeb59",
   "metadata": {},
   "outputs": [
    {
     "data": {
      "text/plain": [
       "<Axes: xlabel='LastInteraction', ylabel='Density'>"
      ]
     },
     "execution_count": 215,
     "metadata": {},
     "output_type": "execute_result"
    },
    {
     "data": {
      "image/png": "[encoded data removed]",
      "text/plain": [
       "<Figure size 640x480 with 1 Axes>"
      ]
     },
     "metadata": {},
     "output_type": "display_data"
    }
   ],
   "source": [
    "sns.kdeplot(alld, x='LastInteraction', hue='dataset')"
   ]
  },
  {
   "cell_type": "code",
   "execution_count": 216,
   "id": "f9960c9e",
   "metadata": {},
   "outputs": [
    {
     "data": {
      "text/plain": [
       "<Axes: xlabel='Churn', ylabel='count'>"
      ]
     },
     "execution_count": 216,
     "metadata": {},
     "output_type": "execute_result"
    },
    {
     "data": {
      "image/png": "[encoded data removed]",
      "text/plain": [
       "<Figure size 640x480 with 1 Axes>"
      ]
     },
     "metadata": {},
     "output_type": "display_data"
    }
   ],
   "source": [
    "sns.countplot(alld,x='Churn',hue='dataset')"
   ]
  },
  {
   "cell_type": "markdown",
   "id": "7a506f6e",
   "metadata": {},
   "source": [
    "As seen before, we have opposite representation of churners."
   ]
  },
  {
   "cell_type": "markdown",
   "id": "c4344d01",
   "metadata": {},
   "source": [
    "## Handling missing values\n",
    "\n",
    "We reload the datasets that we had previously staged with their minor fixes."
   ]
  },
  {
   "cell_type": "code",
   "execution_count": 262,
   "id": "c1476fbe",
   "metadata": {},
   "outputs": [],
   "source": [
    "train = pd.read_parquet('data/training.pq')\n",
    "test = pd.read_parquet('data/testing.pq')"
   ]
  },
  {
   "cell_type": "code",
   "execution_count": 263,
   "id": "6dd65a33",
   "metadata": {},
   "outputs": [
    {
     "data": {
      "text/html": [
       "<div>\n",
       "<style scoped>\n",
       "    .dataframe tbody tr th:only-of-type {\n",
       "        vertical-align: middle;\n",
       "    }\n",
       "\n",
       "    .dataframe tbody tr th {\n",
       "        vertical-align: top;\n",
       "    }\n",
       "\n",
       "    .dataframe thead th {\n",
       "        text-align: right;\n",
       "    }\n",
       "</style>\n",
       "<table border=\"1\" class=\"dataframe\">\n",
       "  <thead>\n",
       "    <tr style=\"text-align: right;\">\n",
       "      <th></th>\n",
       "      <th>CustomerID</th>\n",
       "      <th>Age</th>\n",
       "      <th>Gender</th>\n",
       "      <th>Tenure</th>\n",
       "      <th>UsageFrequency</th>\n",
       "      <th>SupportCalls</th>\n",
       "      <th>PaymentDelay</th>\n",
       "      <th>SubscriptionType</th>\n",
       "      <th>ContractLength</th>\n",
       "      <th>TotalSpend</th>\n",
       "      <th>LastInteraction</th>\n",
       "      <th>Churn</th>\n",
       "    </tr>\n",
       "  </thead>\n",
       "  <tbody>\n",
       "    <tr>\n",
       "      <th>199295</th>\n",
       "      <td>NaN</td>\n",
       "      <td>NaN</td>\n",
       "      <td>None</td>\n",
       "      <td>NaN</td>\n",
       "      <td>NaN</td>\n",
       "      <td>NaN</td>\n",
       "      <td>NaN</td>\n",
       "      <td>None</td>\n",
       "      <td>None</td>\n",
       "      <td>NaN</td>\n",
       "      <td>NaN</td>\n",
       "      <td>NaN</td>\n",
       "    </tr>\n",
       "  </tbody>\n",
       "</table>\n",
       "</div>"
      ],
      "text/plain": [
       "        CustomerID  Age Gender  Tenure  UsageFrequency  SupportCalls  \\\n",
       "199295         NaN  NaN   None     NaN             NaN           NaN   \n",
       "\n",
       "        PaymentDelay SubscriptionType ContractLength  TotalSpend  \\\n",
       "199295           NaN             None           None         NaN   \n",
       "\n",
       "        LastInteraction  Churn  \n",
       "199295              NaN    NaN  "
      ]
     },
     "execution_count": 263,
     "metadata": {},
     "output_type": "execute_result"
    }
   ],
   "source": [
    "train[train.isna().any(axis=1)]"
   ]
  },
  {
   "cell_type": "markdown",
   "id": "7e689644",
   "metadata": {},
   "source": [
    "We simply drop the single record that has missing values on the training set."
   ]
  },
  {
   "cell_type": "code",
   "execution_count": 264,
   "id": "d3d54912",
   "metadata": {},
   "outputs": [],
   "source": [
    "train = train.dropna(how='all')"
   ]
  },
  {
   "cell_type": "code",
   "execution_count": 265,
   "id": "70682ce5",
   "metadata": {},
   "outputs": [
    {
     "data": {
      "text/html": [
       "<div>\n",
       "<style scoped>\n",
       "    .dataframe tbody tr th:only-of-type {\n",
       "        vertical-align: middle;\n",
       "    }\n",
       "\n",
       "    .dataframe tbody tr th {\n",
       "        vertical-align: top;\n",
       "    }\n",
       "\n",
       "    .dataframe thead th {\n",
       "        text-align: right;\n",
       "    }\n",
       "</style>\n",
       "<table border=\"1\" class=\"dataframe\">\n",
       "  <thead>\n",
       "    <tr style=\"text-align: right;\">\n",
       "      <th></th>\n",
       "      <th>CustomerID</th>\n",
       "      <th>Age</th>\n",
       "      <th>Gender</th>\n",
       "      <th>Tenure</th>\n",
       "      <th>UsageFrequency</th>\n",
       "      <th>SupportCalls</th>\n",
       "      <th>PaymentDelay</th>\n",
       "      <th>SubscriptionType</th>\n",
       "      <th>ContractLength</th>\n",
       "      <th>TotalSpend</th>\n",
       "      <th>LastInteraction</th>\n",
       "      <th>Churn</th>\n",
       "    </tr>\n",
       "  </thead>\n",
       "  <tbody>\n",
       "  </tbody>\n",
       "</table>\n",
       "</div>"
      ],
      "text/plain": [
       "Empty DataFrame\n",
       "Columns: [CustomerID, Age, Gender, Tenure, UsageFrequency, SupportCalls, PaymentDelay, SubscriptionType, ContractLength, TotalSpend, LastInteraction, Churn]\n",
       "Index: []"
      ]
     },
     "execution_count": 265,
     "metadata": {},
     "output_type": "execute_result"
    }
   ],
   "source": [
    "train[train.isna().any(axis=1)]"
   ]
  },
  {
   "cell_type": "code",
   "execution_count": 266,
   "id": "85b8c5ad",
   "metadata": {},
   "outputs": [
    {
     "data": {
      "text/html": [
       "<div>\n",
       "<style scoped>\n",
       "    .dataframe tbody tr th:only-of-type {\n",
       "        vertical-align: middle;\n",
       "    }\n",
       "\n",
       "    .dataframe tbody tr th {\n",
       "        vertical-align: top;\n",
       "    }\n",
       "\n",
       "    .dataframe thead th {\n",
       "        text-align: right;\n",
       "    }\n",
       "</style>\n",
       "<table border=\"1\" class=\"dataframe\">\n",
       "  <thead>\n",
       "    <tr style=\"text-align: right;\">\n",
       "      <th></th>\n",
       "      <th>CustomerID</th>\n",
       "      <th>Age</th>\n",
       "      <th>Gender</th>\n",
       "      <th>Tenure</th>\n",
       "      <th>UsageFrequency</th>\n",
       "      <th>SupportCalls</th>\n",
       "      <th>PaymentDelay</th>\n",
       "      <th>SubscriptionType</th>\n",
       "      <th>ContractLength</th>\n",
       "      <th>TotalSpend</th>\n",
       "      <th>LastInteraction</th>\n",
       "      <th>Churn</th>\n",
       "    </tr>\n",
       "  </thead>\n",
       "  <tbody>\n",
       "    <tr>\n",
       "      <th>71</th>\n",
       "      <td>72</td>\n",
       "      <td>NaN</td>\n",
       "      <td>Female</td>\n",
       "      <td>34</td>\n",
       "      <td>20</td>\n",
       "      <td>1.0</td>\n",
       "      <td>1</td>\n",
       "      <td>Basic</td>\n",
       "      <td>Annual</td>\n",
       "      <td>986</td>\n",
       "      <td>19</td>\n",
       "      <td>0</td>\n",
       "    </tr>\n",
       "    <tr>\n",
       "      <th>72</th>\n",
       "      <td>73</td>\n",
       "      <td>52.0</td>\n",
       "      <td>Female</td>\n",
       "      <td>5</td>\n",
       "      <td>12</td>\n",
       "      <td>NaN</td>\n",
       "      <td>23</td>\n",
       "      <td>Basic</td>\n",
       "      <td>Annual</td>\n",
       "      <td>844</td>\n",
       "      <td>12</td>\n",
       "      <td>0</td>\n",
       "    </tr>\n",
       "    <tr>\n",
       "      <th>91</th>\n",
       "      <td>92</td>\n",
       "      <td>37.0</td>\n",
       "      <td>Female</td>\n",
       "      <td>57</td>\n",
       "      <td>21</td>\n",
       "      <td>NaN</td>\n",
       "      <td>6</td>\n",
       "      <td>Premium</td>\n",
       "      <td>Quarterly</td>\n",
       "      <td>209</td>\n",
       "      <td>29</td>\n",
       "      <td>0</td>\n",
       "    </tr>\n",
       "    <tr>\n",
       "      <th>104</th>\n",
       "      <td>105</td>\n",
       "      <td>NaN</td>\n",
       "      <td>Male</td>\n",
       "      <td>10</td>\n",
       "      <td>22</td>\n",
       "      <td>9.0</td>\n",
       "      <td>0</td>\n",
       "      <td>Standard</td>\n",
       "      <td>Quarterly</td>\n",
       "      <td>218</td>\n",
       "      <td>7</td>\n",
       "      <td>0</td>\n",
       "    </tr>\n",
       "    <tr>\n",
       "      <th>111</th>\n",
       "      <td>112</td>\n",
       "      <td>41.0</td>\n",
       "      <td>Male</td>\n",
       "      <td>8</td>\n",
       "      <td>11</td>\n",
       "      <td>NaN</td>\n",
       "      <td>24</td>\n",
       "      <td>Premium</td>\n",
       "      <td>Monthly</td>\n",
       "      <td>900</td>\n",
       "      <td>14</td>\n",
       "      <td>0</td>\n",
       "    </tr>\n",
       "    <tr>\n",
       "      <th>144</th>\n",
       "      <td>145</td>\n",
       "      <td>24.0</td>\n",
       "      <td>Male</td>\n",
       "      <td>8</td>\n",
       "      <td>12</td>\n",
       "      <td>NaN</td>\n",
       "      <td>15</td>\n",
       "      <td>Basic</td>\n",
       "      <td>Annual</td>\n",
       "      <td>257</td>\n",
       "      <td>18</td>\n",
       "      <td>0</td>\n",
       "    </tr>\n",
       "    <tr>\n",
       "      <th>160</th>\n",
       "      <td>161</td>\n",
       "      <td>36.0</td>\n",
       "      <td>Male</td>\n",
       "      <td>51</td>\n",
       "      <td>1</td>\n",
       "      <td>NaN</td>\n",
       "      <td>7</td>\n",
       "      <td>Premium</td>\n",
       "      <td>Annual</td>\n",
       "      <td>837</td>\n",
       "      <td>16</td>\n",
       "      <td>0</td>\n",
       "    </tr>\n",
       "    <tr>\n",
       "      <th>208</th>\n",
       "      <td>209</td>\n",
       "      <td>64.0</td>\n",
       "      <td>Male</td>\n",
       "      <td>13</td>\n",
       "      <td>20</td>\n",
       "      <td>NaN</td>\n",
       "      <td>22</td>\n",
       "      <td>Standard</td>\n",
       "      <td>Quarterly</td>\n",
       "      <td>749</td>\n",
       "      <td>14</td>\n",
       "      <td>0</td>\n",
       "    </tr>\n",
       "    <tr>\n",
       "      <th>385</th>\n",
       "      <td>386</td>\n",
       "      <td>NaN</td>\n",
       "      <td>Female</td>\n",
       "      <td>41</td>\n",
       "      <td>15</td>\n",
       "      <td>10.0</td>\n",
       "      <td>27</td>\n",
       "      <td>Premium</td>\n",
       "      <td>Quarterly</td>\n",
       "      <td>814</td>\n",
       "      <td>19</td>\n",
       "      <td>1</td>\n",
       "    </tr>\n",
       "    <tr>\n",
       "      <th>432</th>\n",
       "      <td>433</td>\n",
       "      <td>NaN</td>\n",
       "      <td>Female</td>\n",
       "      <td>9</td>\n",
       "      <td>19</td>\n",
       "      <td>4.0</td>\n",
       "      <td>26</td>\n",
       "      <td>Basic</td>\n",
       "      <td>Annual</td>\n",
       "      <td>805</td>\n",
       "      <td>21</td>\n",
       "      <td>0</td>\n",
       "    </tr>\n",
       "    <tr>\n",
       "      <th>434</th>\n",
       "      <td>435</td>\n",
       "      <td>29.0</td>\n",
       "      <td>Female</td>\n",
       "      <td>33</td>\n",
       "      <td>2</td>\n",
       "      <td>NaN</td>\n",
       "      <td>13</td>\n",
       "      <td>Premium</td>\n",
       "      <td>Quarterly</td>\n",
       "      <td>190</td>\n",
       "      <td>9</td>\n",
       "      <td>0</td>\n",
       "    </tr>\n",
       "    <tr>\n",
       "      <th>487</th>\n",
       "      <td>488</td>\n",
       "      <td>46.0</td>\n",
       "      <td>Male</td>\n",
       "      <td>11</td>\n",
       "      <td>19</td>\n",
       "      <td>2.0</td>\n",
       "      <td>7</td>\n",
       "      <td>None</td>\n",
       "      <td>Quarterly</td>\n",
       "      <td>612</td>\n",
       "      <td>8</td>\n",
       "      <td>0</td>\n",
       "    </tr>\n",
       "    <tr>\n",
       "      <th>491</th>\n",
       "      <td>492</td>\n",
       "      <td>NaN</td>\n",
       "      <td>Female</td>\n",
       "      <td>44</td>\n",
       "      <td>30</td>\n",
       "      <td>2.0</td>\n",
       "      <td>30</td>\n",
       "      <td>Standard</td>\n",
       "      <td>Annual</td>\n",
       "      <td>844</td>\n",
       "      <td>23</td>\n",
       "      <td>0</td>\n",
       "    </tr>\n",
       "    <tr>\n",
       "      <th>495</th>\n",
       "      <td>496</td>\n",
       "      <td>28.0</td>\n",
       "      <td>Male</td>\n",
       "      <td>60</td>\n",
       "      <td>16</td>\n",
       "      <td>9.0</td>\n",
       "      <td>7</td>\n",
       "      <td>None</td>\n",
       "      <td>Monthly</td>\n",
       "      <td>494</td>\n",
       "      <td>5</td>\n",
       "      <td>0</td>\n",
       "    </tr>\n",
       "    <tr>\n",
       "      <th>501</th>\n",
       "      <td>502</td>\n",
       "      <td>45.0</td>\n",
       "      <td>Male</td>\n",
       "      <td>7</td>\n",
       "      <td>30</td>\n",
       "      <td>7.0</td>\n",
       "      <td>25</td>\n",
       "      <td>None</td>\n",
       "      <td>Annual</td>\n",
       "      <td>978</td>\n",
       "      <td>29</td>\n",
       "      <td>0</td>\n",
       "    </tr>\n",
       "    <tr>\n",
       "      <th>536</th>\n",
       "      <td>537</td>\n",
       "      <td>NaN</td>\n",
       "      <td>Female</td>\n",
       "      <td>4</td>\n",
       "      <td>15</td>\n",
       "      <td>7.0</td>\n",
       "      <td>13</td>\n",
       "      <td>Premium</td>\n",
       "      <td>Quarterly</td>\n",
       "      <td>344</td>\n",
       "      <td>23</td>\n",
       "      <td>0</td>\n",
       "    </tr>\n",
       "  </tbody>\n",
       "</table>\n",
       "</div>"
      ],
      "text/plain": [
       "     CustomerID   Age  Gender  Tenure  UsageFrequency  SupportCalls  \\\n",
       "71           72   NaN  Female      34              20           1.0   \n",
       "72           73  52.0  Female       5              12           NaN   \n",
       "91           92  37.0  Female      57              21           NaN   \n",
       "104         105   NaN    Male      10              22           9.0   \n",
       "111         112  41.0    Male       8              11           NaN   \n",
       "144         145  24.0    Male       8              12           NaN   \n",
       "160         161  36.0    Male      51               1           NaN   \n",
       "208         209  64.0    Male      13              20           NaN   \n",
       "385         386   NaN  Female      41              15          10.0   \n",
       "432         433   NaN  Female       9              19           4.0   \n",
       "434         435  29.0  Female      33               2           NaN   \n",
       "487         488  46.0    Male      11              19           2.0   \n",
       "491         492   NaN  Female      44              30           2.0   \n",
       "495         496  28.0    Male      60              16           9.0   \n",
       "501         502  45.0    Male       7              30           7.0   \n",
       "536         537   NaN  Female       4              15           7.0   \n",
       "\n",
       "     PaymentDelay SubscriptionType ContractLength  TotalSpend  \\\n",
       "71              1            Basic         Annual         986   \n",
       "72             23            Basic         Annual         844   \n",
       "91              6          Premium      Quarterly         209   \n",
       "104             0         Standard      Quarterly         218   \n",
       "111            24          Premium        Monthly         900   \n",
       "144            15            Basic         Annual         257   \n",
       "160             7          Premium         Annual         837   \n",
       "208            22         Standard      Quarterly         749   \n",
       "385            27          Premium      Quarterly         814   \n",
       "432            26            Basic         Annual         805   \n",
       "434            13          Premium      Quarterly         190   \n",
       "487             7             None      Quarterly         612   \n",
       "491            30         Standard         Annual         844   \n",
       "495             7             None        Monthly         494   \n",
       "501            25             None         Annual         978   \n",
       "536            13          Premium      Quarterly         344   \n",
       "\n",
       "     LastInteraction  Churn  \n",
       "71                19      0  \n",
       "72                12      0  \n",
       "91                29      0  \n",
       "104                7      0  \n",
       "111               14      0  \n",
       "144               18      0  \n",
       "160               16      0  \n",
       "208               14      0  \n",
       "385               19      1  \n",
       "432               21      0  \n",
       "434                9      0  \n",
       "487                8      0  \n",
       "491               23      0  \n",
       "495                5      0  \n",
       "501               29      0  \n",
       "536               23      0  "
      ]
     },
     "execution_count": 266,
     "metadata": {},
     "output_type": "execute_result"
    }
   ],
   "source": [
    "test[test.isna().any(axis=1)]"
   ]
  },
  {
   "cell_type": "code",
   "execution_count": 267,
   "id": "600e6de8",
   "metadata": {},
   "outputs": [],
   "source": [
    "test.Age = test.Age.fillna(test.Age.mean())\n",
    "test.SupportCalls = test.SupportCalls.fillna(test.SupportCalls.mean())"
   ]
  },
  {
   "cell_type": "code",
   "execution_count": 268,
   "id": "caca20eb",
   "metadata": {},
   "outputs": [
    {
     "data": {
      "text/html": [
       "<div>\n",
       "<style scoped>\n",
       "    .dataframe tbody tr th:only-of-type {\n",
       "        vertical-align: middle;\n",
       "    }\n",
       "\n",
       "    .dataframe tbody tr th {\n",
       "        vertical-align: top;\n",
       "    }\n",
       "\n",
       "    .dataframe thead th {\n",
       "        text-align: right;\n",
       "    }\n",
       "</style>\n",
       "<table border=\"1\" class=\"dataframe\">\n",
       "  <thead>\n",
       "    <tr style=\"text-align: right;\">\n",
       "      <th></th>\n",
       "      <th>CustomerID</th>\n",
       "      <th>Age</th>\n",
       "      <th>Gender</th>\n",
       "      <th>Tenure</th>\n",
       "      <th>UsageFrequency</th>\n",
       "      <th>SupportCalls</th>\n",
       "      <th>PaymentDelay</th>\n",
       "      <th>SubscriptionType</th>\n",
       "      <th>ContractLength</th>\n",
       "      <th>TotalSpend</th>\n",
       "      <th>LastInteraction</th>\n",
       "      <th>Churn</th>\n",
       "    </tr>\n",
       "  </thead>\n",
       "  <tbody>\n",
       "    <tr>\n",
       "      <th>487</th>\n",
       "      <td>488</td>\n",
       "      <td>46.0</td>\n",
       "      <td>Male</td>\n",
       "      <td>11</td>\n",
       "      <td>19</td>\n",
       "      <td>2.0</td>\n",
       "      <td>7</td>\n",
       "      <td>None</td>\n",
       "      <td>Quarterly</td>\n",
       "      <td>612</td>\n",
       "      <td>8</td>\n",
       "      <td>0</td>\n",
       "    </tr>\n",
       "    <tr>\n",
       "      <th>495</th>\n",
       "      <td>496</td>\n",
       "      <td>28.0</td>\n",
       "      <td>Male</td>\n",
       "      <td>60</td>\n",
       "      <td>16</td>\n",
       "      <td>9.0</td>\n",
       "      <td>7</td>\n",
       "      <td>None</td>\n",
       "      <td>Monthly</td>\n",
       "      <td>494</td>\n",
       "      <td>5</td>\n",
       "      <td>0</td>\n",
       "    </tr>\n",
       "    <tr>\n",
       "      <th>501</th>\n",
       "      <td>502</td>\n",
       "      <td>45.0</td>\n",
       "      <td>Male</td>\n",
       "      <td>7</td>\n",
       "      <td>30</td>\n",
       "      <td>7.0</td>\n",
       "      <td>25</td>\n",
       "      <td>None</td>\n",
       "      <td>Annual</td>\n",
       "      <td>978</td>\n",
       "      <td>29</td>\n",
       "      <td>0</td>\n",
       "    </tr>\n",
       "  </tbody>\n",
       "</table>\n",
       "</div>"
      ],
      "text/plain": [
       "     CustomerID   Age Gender  Tenure  UsageFrequency  SupportCalls  \\\n",
       "487         488  46.0   Male      11              19           2.0   \n",
       "495         496  28.0   Male      60              16           9.0   \n",
       "501         502  45.0   Male       7              30           7.0   \n",
       "\n",
       "     PaymentDelay SubscriptionType ContractLength  TotalSpend  \\\n",
       "487             7             None      Quarterly         612   \n",
       "495             7             None        Monthly         494   \n",
       "501            25             None         Annual         978   \n",
       "\n",
       "     LastInteraction  Churn  \n",
       "487                8      0  \n",
       "495                5      0  \n",
       "501               29      0  "
      ]
     },
     "execution_count": 268,
     "metadata": {},
     "output_type": "execute_result"
    }
   ],
   "source": [
    "test[test.isna().any(axis=1)]"
   ]
  },
  {
   "cell_type": "code",
   "execution_count": 269,
   "id": "850ac604",
   "metadata": {},
   "outputs": [
    {
     "data": {
      "text/plain": [
       "SubscriptionType\n",
       "Standard    33.401687\n",
       "Basic       33.320905\n",
       "Premium     33.277408\n",
       "Name: proportion, dtype: float64"
      ]
     },
     "execution_count": 269,
     "metadata": {},
     "output_type": "execute_result"
    }
   ],
   "source": [
    "test.SubscriptionType.value_counts(normalize=True) * 100"
   ]
  },
  {
   "cell_type": "markdown",
   "id": "fd6519cc",
   "metadata": {},
   "source": [
    "In the absence of a clear mode for that variable on the test set, we could pick a random value for SubscriptionType, but instead we will simply drop those records from the test set."
   ]
  },
  {
   "cell_type": "code",
   "execution_count": 270,
   "id": "e69b400e",
   "metadata": {},
   "outputs": [
    {
     "data": {
      "text/html": [
       "<div>\n",
       "<style scoped>\n",
       "    .dataframe tbody tr th:only-of-type {\n",
       "        vertical-align: middle;\n",
       "    }\n",
       "\n",
       "    .dataframe tbody tr th {\n",
       "        vertical-align: top;\n",
       "    }\n",
       "\n",
       "    .dataframe thead th {\n",
       "        text-align: right;\n",
       "    }\n",
       "</style>\n",
       "<table border=\"1\" class=\"dataframe\">\n",
       "  <thead>\n",
       "    <tr style=\"text-align: right;\">\n",
       "      <th></th>\n",
       "      <th>CustomerID</th>\n",
       "      <th>Age</th>\n",
       "      <th>Gender</th>\n",
       "      <th>Tenure</th>\n",
       "      <th>UsageFrequency</th>\n",
       "      <th>SupportCalls</th>\n",
       "      <th>PaymentDelay</th>\n",
       "      <th>SubscriptionType</th>\n",
       "      <th>ContractLength</th>\n",
       "      <th>TotalSpend</th>\n",
       "      <th>LastInteraction</th>\n",
       "      <th>Churn</th>\n",
       "    </tr>\n",
       "  </thead>\n",
       "  <tbody>\n",
       "  </tbody>\n",
       "</table>\n",
       "</div>"
      ],
      "text/plain": [
       "Empty DataFrame\n",
       "Columns: [CustomerID, Age, Gender, Tenure, UsageFrequency, SupportCalls, PaymentDelay, SubscriptionType, ContractLength, TotalSpend, LastInteraction, Churn]\n",
       "Index: []"
      ]
     },
     "execution_count": 270,
     "metadata": {},
     "output_type": "execute_result"
    }
   ],
   "source": [
    "test = test.dropna()\n",
    "test[test.isna().any(axis=1)]"
   ]
  },
  {
   "cell_type": "code",
   "execution_count": 271,
   "id": "ec3b841d",
   "metadata": {},
   "outputs": [],
   "source": [
    "train.CustomerID = train.CustomerID.astype('int64')\n",
    "train.Churn = train.Churn.astype('int64')\n",
    "test.Tenure = test.Tenure.astype('float64')\n",
    "test.UsageFrequency = test.UsageFrequency.astype('float64')\n",
    "test.PaymentDelay = test.PaymentDelay.astype('float64')\n",
    "test.TotalSpend = test.TotalSpend.astype('float64')\n",
    "test.LastInteraction = test.LastInteraction.astype('float64')"
   ]
  },
  {
   "cell_type": "code",
   "execution_count": 272,
   "id": "131d9fc4",
   "metadata": {},
   "outputs": [
    {
     "data": {
      "text/plain": [
       "True"
      ]
     },
     "execution_count": 272,
     "metadata": {},
     "output_type": "execute_result"
    }
   ],
   "source": [
    "(test.dtypes.values == train.dtypes.values).all()"
   ]
  },
  {
   "cell_type": "code",
   "execution_count": 273,
   "id": "63d959a4",
   "metadata": {},
   "outputs": [],
   "source": [
    "train.to_parquet('data/training_2.pq', index=False)\n",
    "test.to_parquet('data/testing_2.pq', index=False)"
   ]
  }
 ],
 "metadata": {
  "kernelspec": {
   "display_name": "Python 3 (ipykernel)",
   "language": "python",
   "name": "python3"
  },
  "language_info": {
   "codemirror_mode": {
    "name": "ipython",
    "version": 3
   },
   "file_extension": ".py",
   "mimetype": "text/x-python",
   "name": "python",
   "nbconvert_exporter": "python",
   "pygments_lexer": "ipython3",
   "version": "3.10.12"
  }
 },
 "nbformat": 4,
 "nbformat_minor": 5
}
