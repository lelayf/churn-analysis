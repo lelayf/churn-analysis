{
 "cells": [
  {
   "cell_type": "code",
   "execution_count": 23,
   "id": "1c5561a2",
   "metadata": {},
   "outputs": [
    {
     "data": {
      "text/plain": [
       "(CustomerID          float64\n",
       " Age                 float64\n",
       " Gender               object\n",
       " Tenure              float64\n",
       " UsageFrequency      float64\n",
       " SupportCalls        float64\n",
       " PaymentDelay        float64\n",
       " SubscriptionType     object\n",
       " ContractLength       object\n",
       " TotalSpend          float64\n",
       " LastInteraction     float64\n",
       " Churn               float64\n",
       " dtype: object,\n",
       " CustomerID           int64\n",
       " Age                 object\n",
       " Gender              object\n",
       " Tenure               int64\n",
       " UsageFrequency       int64\n",
       " SupportCalls        object\n",
       " PaymentDelay         int64\n",
       " SubscriptionType    object\n",
       " ContractLength      object\n",
       " TotalSpend           int64\n",
       " LastInteraction      int64\n",
       " Churn                int64\n",
       " dtype: object)"
      ]
     },
     "execution_count": 23,
     "metadata": {},
     "output_type": "execute_result"
    }
   ],
   "source": [
    "%matplotlib inline\n",
    "import pandas as pd\n",
    "import matplotlib.pyplot as plt\n",
    "import seaborn as sns\n",
    "import numpy as np\n",
    "\n",
    "# set seed for reproducibility\n",
    "np.random.seed(0) \n",
    "\n",
    "\n",
    "train = pd.read_csv('data/customer_churn_dataset-training-master.csv')\n",
    "train.columns = [c.replace(\" \",\"\") for c in train.columns] \n",
    "\n",
    "test = pd.read_csv('data/customer_churn_dataset-testing-master.csv')\n",
    "test.columns = [c.replace(\" \",\"\") for c in test.columns] \n",
    "\n",
    "#['id', 'age', 'gender', 'tenure', 'frequency', 'calls', 'delay', 'subscription', 'contractlength', 'spend', 'lastinteraction', 'churn']\n",
    "train.dtypes, test.dtypes"
   ]
  },
  {
   "cell_type": "code",
   "execution_count": 24,
   "id": "dd62e413",
   "metadata": {},
   "outputs": [
    {
     "name": "stdout",
     "output_type": "stream",
     "text": [
      "<class 'pandas.core.frame.DataFrame'>\n",
      "RangeIndex: 440833 entries, 0 to 440832\n",
      "Data columns (total 12 columns):\n",
      " #   Column            Non-Null Count   Dtype  \n",
      "---  ------            --------------   -----  \n",
      " 0   CustomerID        440832 non-null  float64\n",
      " 1   Age               440832 non-null  float64\n",
      " 2   Gender            440832 non-null  object \n",
      " 3   Tenure            440832 non-null  float64\n",
      " 4   UsageFrequency    440832 non-null  float64\n",
      " 5   SupportCalls      440832 non-null  float64\n",
      " 6   PaymentDelay      440832 non-null  float64\n",
      " 7   SubscriptionType  440832 non-null  object \n",
      " 8   ContractLength    440832 non-null  object \n",
      " 9   TotalSpend        440832 non-null  float64\n",
      " 10  LastInteraction   440832 non-null  float64\n",
      " 11  Churn             440832 non-null  float64\n",
      "dtypes: float64(9), object(3)\n",
      "memory usage: 40.4+ MB\n"
     ]
    }
   ],
   "source": [
    "train.info()"
   ]
  },
  {
   "cell_type": "code",
   "execution_count": 25,
   "id": "36c47aac",
   "metadata": {},
   "outputs": [
    {
     "name": "stdout",
     "output_type": "stream",
     "text": [
      "<class 'pandas.core.frame.DataFrame'>\n",
      "RangeIndex: 64374 entries, 0 to 64373\n",
      "Data columns (total 12 columns):\n",
      " #   Column            Non-Null Count  Dtype \n",
      "---  ------            --------------  ----- \n",
      " 0   CustomerID        64374 non-null  int64 \n",
      " 1   Age               64368 non-null  object\n",
      " 2   Gender            64374 non-null  object\n",
      " 3   Tenure            64374 non-null  int64 \n",
      " 4   UsageFrequency    64374 non-null  int64 \n",
      " 5   SupportCalls      64368 non-null  object\n",
      " 6   PaymentDelay      64374 non-null  int64 \n",
      " 7   SubscriptionType  64371 non-null  object\n",
      " 8   ContractLength    64374 non-null  object\n",
      " 9   TotalSpend        64374 non-null  int64 \n",
      " 10  LastInteraction   64374 non-null  int64 \n",
      " 11  Churn             64374 non-null  int64 \n",
      "dtypes: int64(7), object(5)\n",
      "memory usage: 5.9+ MB\n"
     ]
    }
   ],
   "source": [
    "test.info()"
   ]
  },
  {
   "cell_type": "code",
   "execution_count": 15,
   "id": "6dd65a33",
   "metadata": {},
   "outputs": [
    {
     "data": {
      "text/html": [
       "<div>\n",
       "<style scoped>\n",
       "    .dataframe tbody tr th:only-of-type {\n",
       "        vertical-align: middle;\n",
       "    }\n",
       "\n",
       "    .dataframe tbody tr th {\n",
       "        vertical-align: top;\n",
       "    }\n",
       "\n",
       "    .dataframe thead th {\n",
       "        text-align: right;\n",
       "    }\n",
       "</style>\n",
       "<table border=\"1\" class=\"dataframe\">\n",
       "  <thead>\n",
       "    <tr style=\"text-align: right;\">\n",
       "      <th></th>\n",
       "      <th>id</th>\n",
       "      <th>age</th>\n",
       "      <th>gender</th>\n",
       "      <th>tenure</th>\n",
       "      <th>frequency</th>\n",
       "      <th>calls</th>\n",
       "      <th>delay</th>\n",
       "      <th>subscription</th>\n",
       "      <th>contractlength</th>\n",
       "      <th>spend</th>\n",
       "      <th>lastinteraction</th>\n",
       "      <th>churn</th>\n",
       "    </tr>\n",
       "  </thead>\n",
       "  <tbody>\n",
       "    <tr>\n",
       "      <th>199295</th>\n",
       "      <td>NaN</td>\n",
       "      <td>NaN</td>\n",
       "      <td>NaN</td>\n",
       "      <td>NaN</td>\n",
       "      <td>NaN</td>\n",
       "      <td>NaN</td>\n",
       "      <td>NaN</td>\n",
       "      <td>NaN</td>\n",
       "      <td>NaN</td>\n",
       "      <td>NaN</td>\n",
       "      <td>NaN</td>\n",
       "      <td>NaN</td>\n",
       "    </tr>\n",
       "  </tbody>\n",
       "</table>\n",
       "</div>"
      ],
      "text/plain": [
       "        id  age gender  tenure  frequency  calls  delay subscription  \\\n",
       "199295 NaN  NaN    NaN     NaN        NaN    NaN    NaN          NaN   \n",
       "\n",
       "       contractlength  spend  lastinteraction  churn  \n",
       "199295            NaN    NaN              NaN    NaN  "
      ]
     },
     "execution_count": 15,
     "metadata": {},
     "output_type": "execute_result"
    }
   ],
   "source": [
    "df[df.isna().any(axis=1)]"
   ]
  },
  {
   "cell_type": "code",
   "execution_count": 8,
   "id": "6bde839a",
   "metadata": {},
   "outputs": [],
   "source": [
    "# get the number of missing data points per column\n",
    "missing_values_count = df.isnull().sum()"
   ]
  },
  {
   "cell_type": "code",
   "execution_count": 9,
   "id": "bfcd820e",
   "metadata": {},
   "outputs": [
    {
     "data": {
      "text/plain": [
       "id                 0\n",
       "age                6\n",
       "gender             0\n",
       "tenure             0\n",
       "frequency          0\n",
       "calls              6\n",
       "delay              0\n",
       "subscription       3\n",
       "contractlength     0\n",
       "spend              0\n",
       "lastinteraction    0\n",
       "churn              0\n",
       "dtype: int64"
      ]
     },
     "execution_count": 9,
     "metadata": {},
     "output_type": "execute_result"
    }
   ],
   "source": [
    "missing_values_count"
   ]
  },
  {
   "cell_type": "code",
   "execution_count": 10,
   "id": "ff3147f1",
   "metadata": {},
   "outputs": [
    {
     "data": {
      "text/html": [
       "<div>\n",
       "<style scoped>\n",
       "    .dataframe tbody tr th:only-of-type {\n",
       "        vertical-align: middle;\n",
       "    }\n",
       "\n",
       "    .dataframe tbody tr th {\n",
       "        vertical-align: top;\n",
       "    }\n",
       "\n",
       "    .dataframe thead th {\n",
       "        text-align: right;\n",
       "    }\n",
       "</style>\n",
       "<table border=\"1\" class=\"dataframe\">\n",
       "  <thead>\n",
       "    <tr style=\"text-align: right;\">\n",
       "      <th></th>\n",
       "      <th>id</th>\n",
       "      <th>age</th>\n",
       "      <th>gender</th>\n",
       "      <th>tenure</th>\n",
       "      <th>frequency</th>\n",
       "      <th>calls</th>\n",
       "      <th>delay</th>\n",
       "      <th>subscription</th>\n",
       "      <th>contractlength</th>\n",
       "      <th>spend</th>\n",
       "      <th>lastinteraction</th>\n",
       "      <th>churn</th>\n",
       "    </tr>\n",
       "  </thead>\n",
       "  <tbody>\n",
       "    <tr>\n",
       "      <th>71</th>\n",
       "      <td>72</td>\n",
       "      <td>NaN</td>\n",
       "      <td>Female</td>\n",
       "      <td>34</td>\n",
       "      <td>20</td>\n",
       "      <td>1</td>\n",
       "      <td>1</td>\n",
       "      <td>Basic</td>\n",
       "      <td>Annual</td>\n",
       "      <td>986</td>\n",
       "      <td>19</td>\n",
       "      <td>0</td>\n",
       "    </tr>\n",
       "    <tr>\n",
       "      <th>104</th>\n",
       "      <td>105</td>\n",
       "      <td>NaN</td>\n",
       "      <td>Male</td>\n",
       "      <td>10</td>\n",
       "      <td>22</td>\n",
       "      <td>9</td>\n",
       "      <td>0</td>\n",
       "      <td>Standard</td>\n",
       "      <td>Quarterly</td>\n",
       "      <td>218</td>\n",
       "      <td>7</td>\n",
       "      <td>0</td>\n",
       "    </tr>\n",
       "    <tr>\n",
       "      <th>385</th>\n",
       "      <td>386</td>\n",
       "      <td>NaN</td>\n",
       "      <td>Female</td>\n",
       "      <td>41</td>\n",
       "      <td>15</td>\n",
       "      <td>10</td>\n",
       "      <td>27</td>\n",
       "      <td>Premium</td>\n",
       "      <td>Quarterly</td>\n",
       "      <td>814</td>\n",
       "      <td>19</td>\n",
       "      <td>1</td>\n",
       "    </tr>\n",
       "    <tr>\n",
       "      <th>432</th>\n",
       "      <td>433</td>\n",
       "      <td>NaN</td>\n",
       "      <td>Female</td>\n",
       "      <td>9</td>\n",
       "      <td>19</td>\n",
       "      <td>4</td>\n",
       "      <td>26</td>\n",
       "      <td>Basic</td>\n",
       "      <td>Annual</td>\n",
       "      <td>805</td>\n",
       "      <td>21</td>\n",
       "      <td>0</td>\n",
       "    </tr>\n",
       "    <tr>\n",
       "      <th>491</th>\n",
       "      <td>492</td>\n",
       "      <td>NaN</td>\n",
       "      <td>Female</td>\n",
       "      <td>44</td>\n",
       "      <td>30</td>\n",
       "      <td>2</td>\n",
       "      <td>30</td>\n",
       "      <td>Standard</td>\n",
       "      <td>Annual</td>\n",
       "      <td>844</td>\n",
       "      <td>23</td>\n",
       "      <td>0</td>\n",
       "    </tr>\n",
       "    <tr>\n",
       "      <th>536</th>\n",
       "      <td>537</td>\n",
       "      <td>NaN</td>\n",
       "      <td>Female</td>\n",
       "      <td>4</td>\n",
       "      <td>15</td>\n",
       "      <td>7</td>\n",
       "      <td>13</td>\n",
       "      <td>Premium</td>\n",
       "      <td>Quarterly</td>\n",
       "      <td>344</td>\n",
       "      <td>23</td>\n",
       "      <td>0</td>\n",
       "    </tr>\n",
       "  </tbody>\n",
       "</table>\n",
       "</div>"
      ],
      "text/plain": [
       "      id  age  gender  tenure  frequency calls  delay subscription  \\\n",
       "71    72  NaN  Female      34         20     1      1        Basic   \n",
       "104  105  NaN    Male      10         22     9      0     Standard   \n",
       "385  386  NaN  Female      41         15    10     27      Premium   \n",
       "432  433  NaN  Female       9         19     4     26        Basic   \n",
       "491  492  NaN  Female      44         30     2     30     Standard   \n",
       "536  537  NaN  Female       4         15     7     13      Premium   \n",
       "\n",
       "    contractlength  spend  lastinteraction  churn  \n",
       "71          Annual    986               19      0  \n",
       "104      Quarterly    218                7      0  \n",
       "385      Quarterly    814               19      1  \n",
       "432         Annual    805               21      0  \n",
       "491         Annual    844               23      0  \n",
       "536      Quarterly    344               23      0  "
      ]
     },
     "execution_count": 10,
     "metadata": {},
     "output_type": "execute_result"
    }
   ],
   "source": [
    "df[df.age.isnull()]"
   ]
  },
  {
   "cell_type": "code",
   "execution_count": 3,
   "id": "2d6f7248",
   "metadata": {},
   "outputs": [
    {
     "data": {
      "text/plain": [
       "0        False\n",
       "1        False\n",
       "2        False\n",
       "3        False\n",
       "4        False\n",
       "         ...  \n",
       "64369    False\n",
       "64370    False\n",
       "64371    False\n",
       "64372    False\n",
       "64373    False\n",
       "Name: age, Length: 64374, dtype: object"
      ]
     },
     "execution_count": 3,
     "metadata": {},
     "output_type": "execute_result"
    }
   ],
   "source": [
    "non_numberic_ages = df.age.str.contains('[^0-9.-]')\n",
    "# df.loc[non_numberic_ages].head()\n",
    "set(df.age[non_numberic_ages])"
   ]
  },
  {
   "cell_type": "code",
   "execution_count": null,
   "id": "4d794700",
   "metadata": {},
   "outputs": [],
   "source": []
  }
 ],
 "metadata": {
  "kernelspec": {
   "display_name": "Python 3 (ipykernel)",
   "language": "python",
   "name": "python3"
  },
  "language_info": {
   "codemirror_mode": {
    "name": "ipython",
    "version": 3
   },
   "file_extension": ".py",
   "mimetype": "text/x-python",
   "name": "python",
   "nbconvert_exporter": "python",
   "pygments_lexer": "ipython3",
   "version": "3.10.12"
  }
 },
 "nbformat": 4,
 "nbformat_minor": 5
}
